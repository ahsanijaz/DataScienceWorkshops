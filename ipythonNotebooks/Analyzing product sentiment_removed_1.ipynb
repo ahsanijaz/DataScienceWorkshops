{
 "metadata": {
  "kernelspec": {
   "display_name": "Python 2",
   "language": "python",
   "name": "python2"
  },
  "language_info": {
   "codemirror_mode": {
    "name": "ipython",
    "version": 2
   },
   "file_extension": ".py",
   "mimetype": "text/x-python",
   "name": "python",
   "nbconvert_exporter": "python",
   "pygments_lexer": "ipython2",
   "version": "2.7.10"
  },
  "name": ""
 },
 "nbformat": 3,
 "nbformat_minor": 0,
 "worksheets": [
  {
   "cells": [
    {
     "cell_type": "markdown",
     "metadata": {},
     "source": [
      "# Predicting sentiment from product reviews\n",
      "\n",
      "# Fire up GraphLab Create"
     ]
    },
    {
     "cell_type": "code",
     "collapsed": true,
     "input": [
      "import graphlab"
     ],
     "language": "python",
     "metadata": {},
     "outputs": [],
     "prompt_number": 1
    },
    {
     "cell_type": "markdown",
     "metadata": {},
     "source": [
      "# Read some product review data\n",
      "\n",
      "Loading reviews for a set of baby products. "
     ]
    },
    {
     "cell_type": "code",
     "collapsed": false,
     "input": [
      "products = graphlab.SFrame('~/Personal/Workshop Machine learning/DataScienceWorkshops/ipythonNotebooks/amazon_baby.gl/')"
     ],
     "language": "python",
     "metadata": {},
     "outputs": [],
     "prompt_number": 2
    },
    {
     "cell_type": "markdown",
     "metadata": {},
     "source": [
      "#Let's explore this data together\n",
      "\n",
      "Data includes the product name, the review text and the rating of the review. "
     ]
    },
    {
     "cell_type": "code",
     "collapsed": false,
     "input": [
      "products.head()"
     ],
     "language": "python",
     "metadata": {},
     "outputs": [],
     "prompt_number": 34
    },
    {
     "cell_type": "heading",
     "level": 1,
     "metadata": {},
     "source": [
      "Build the word count vector for each review"
     ]
    },
    {
     "cell_type": "code",
     "collapsed": false,
     "input": [
      "selected_words = ['awesome', 'great', 'fantastic', 'amazing', 'love', 'horrible', 'bad', 'terrible', 'awful', 'wow', 'hate']\n",
      "products['word_count'] = graphlab.text_analytics.count_words(products['review'])\n",
      "products['word_count']"
     ],
     "language": "python",
     "metadata": {},
     "outputs": [],
     "prompt_number": 3
    },
    {
     "cell_type": "code",
     "collapsed": true,
     "input": [
      "from functools import partial\n",
      "def word_countA(word,dict):\n",
      "    if word in dict:\n",
      "        return dict[word]\n",
      "    else:\n",
      "        return 0\n"
     ],
     "language": "python",
     "metadata": {},
     "outputs": [],
     "prompt_number": 4
    },
    {
     "cell_type": "code",
     "collapsed": false,
     "input": [
      "# dic = {\"qwe\":1,\"wae\":4,\"awesome\":2}\n",
      "#word_countA(dic,\"q\")\n",
      "for word in selected_words:\n",
      "        products[word] = products['word_count'].apply(partial(word_countA,word))\n",
      "\n"
     ],
     "language": "python",
     "metadata": {},
     "outputs": [],
     "prompt_number": 5
    },
    {
     "cell_type": "code",
     "collapsed": false,
     "input": [
      "for word in selected_words:\n",
      "    print word + \"=\",products[word].sum()\n"
     ],
     "language": "python",
     "metadata": {},
     "outputs": [],
     "prompt_number": 6
    },
    {
     "cell_type": "code",
     "collapsed": true,
     "input": [
      "graphlab.canvas.set_target('ipynb')"
     ],
     "language": "python",
     "metadata": {},
     "outputs": [],
     "prompt_number": 7
    },
    {
     "cell_type": "code",
     "collapsed": false,
     "input": [
      "products['name'].show()"
     ],
     "language": "python",
     "metadata": {
      "scrolled": true
     },
     "outputs": [],
     "prompt_number": 8
    },
    {
     "cell_type": "heading",
     "level": 1,
     "metadata": {
      "collapsed": true
     },
     "source": [
      "Examining the reviews for most-sold product:  'Vulli Sophie the Giraffe Teether'"
     ]
    },
    {
     "cell_type": "code",
     "collapsed": true,
     "input": [
      "giraffe_reviews = products[products['name'] == 'Vulli Sophie the Giraffe Teether']"
     ],
     "language": "python",
     "metadata": {},
     "outputs": [],
     "prompt_number": 9
    },
    {
     "cell_type": "code",
     "collapsed": true,
     "input": [
      "baby_reviews = products[products['name'] == 'Baby Trend Diaper Champ']\n"
     ],
     "language": "python",
     "metadata": {},
     "outputs": [],
     "prompt_number": 10
    },
    {
     "cell_type": "code",
     "collapsed": false,
     "input": [
      "len(giraffe_reviews)"
     ],
     "language": "python",
     "metadata": {},
     "outputs": [],
     "prompt_number": 11
    },
    {
     "cell_type": "code",
     "collapsed": false,
     "input": [
      "giraffe_reviews['rating'].show(view='Categorical')"
     ],
     "language": "python",
     "metadata": {},
     "outputs": [],
     "prompt_number": 12
    },
    {
     "cell_type": "heading",
     "level": 1,
     "metadata": {},
     "source": [
      "Build a sentiment classifier"
     ]
    },
    {
     "cell_type": "code",
     "collapsed": false,
     "input": [
      "products['rating'].show(view='Categorical')"
     ],
     "language": "python",
     "metadata": {},
     "outputs": [],
     "prompt_number": 13
    },
    {
     "cell_type": "markdown",
     "metadata": {},
     "source": [
      "##Define what's a positive and a negative sentiment\n",
      "\n",
      "We will ignore all reviews with rating = 3, since they tend to have a neutral sentiment.  Reviews with a rating of 4 or higher will be considered positive, while the ones with rating of 2 or lower will have a negative sentiment.   "
     ]
    },
    {
     "cell_type": "code",
     "collapsed": true,
     "input": [
      "#ignore all 3* reviews\n",
      "products = products[products['rating'] != 3]"
     ],
     "language": "python",
     "metadata": {},
     "outputs": [],
     "prompt_number": 14
    },
    {
     "cell_type": "code",
     "collapsed": true,
     "input": [
      "#positive sentiment = 4* or 5* reviews\n",
      "products['sentiment'] = products['rating'] >=4"
     ],
     "language": "python",
     "metadata": {},
     "outputs": [],
     "prompt_number": 15
    },
    {
     "cell_type": "code",
     "collapsed": false,
     "input": [
      "products.head()"
     ],
     "language": "python",
     "metadata": {},
     "outputs": [],
     "prompt_number": 17
    },
    {
     "cell_type": "heading",
     "level": 2,
     "metadata": {},
     "source": [
      "Let's train the sentiment classifier"
     ]
    },
    {
     "cell_type": "code",
     "collapsed": true,
     "input": [
      "train_data,test_data = products.random_split(.8, seed=0)\n",
      "features=selected_words"
     ],
     "language": "python",
     "metadata": {},
     "outputs": [],
     "prompt_number": 16
    },
    {
     "cell_type": "code",
     "collapsed": false,
     "input": [
      "sentiment_model = graphlab.logistic_classifier.create(train_data,\n",
      "                                                     target='sentiment',\n",
      "                                                     features=['word_count'],\n",
      "                                                     validation_set=test_data)\n",
      "selected_words_model = graphlab.logistic_classifier.create(train_data,\n",
      "                                                     target='sentiment',\n",
      "                                                     features=features,\n",
      "                                                     validation_set=test_data)"
     ],
     "language": "python",
     "metadata": {
      "scrolled": true
     },
     "outputs": [],
     "prompt_number": 17
    },
    {
     "cell_type": "heading",
     "level": 1,
     "metadata": {},
     "source": [
      "Evaluate the sentiment model"
     ]
    },
    {
     "cell_type": "code",
     "collapsed": false,
     "input": [
      "sentiment_model.evaluate(test_data, metric='roc_curve')\n"
     ],
     "language": "python",
     "metadata": {
      "scrolled": true
     },
     "outputs": [],
     "prompt_number": 18
    },
    {
     "cell_type": "code",
     "collapsed": false,
     "input": [
      "selected_words_model.evaluate(test_data,metric='roc_curve')\n"
     ],
     "language": "python",
     "metadata": {},
     "outputs": [],
     "prompt_number": 20
    },
    {
     "cell_type": "code",
     "collapsed": false,
     "input": [
      "selected_words_model.show(view='Evaluation')"
     ],
     "language": "python",
     "metadata": {
      "scrolled": true
     },
     "outputs": [],
     "prompt_number": 21
    },
    {
     "cell_type": "code",
     "collapsed": false,
     "input": [
      "sentiment_model.show(view='Evaluation')"
     ],
     "language": "python",
     "metadata": {},
     "outputs": [],
     "prompt_number": 22
    },
    {
     "cell_type": "code",
     "collapsed": false,
     "input": [
      "selected_words_model[\"coefficients\"].sort('value',ascending=False)\n"
     ],
     "language": "python",
     "metadata": {},
     "outputs": [],
     "prompt_number": 23
    },
    {
     "cell_type": "heading",
     "level": 1,
     "metadata": {},
     "source": [
      "Applying the learned model to understand sentiment for Giraffe"
     ]
    },
    {
     "cell_type": "code",
     "collapsed": false,
     "input": [
      "giraffe_reviews['predicted_sentiment'] = sentiment_model.predict(giraffe_reviews, output_type='probability')\n",
      "type(giraffe_reviews)"
     ],
     "language": "python",
     "metadata": {},
     "outputs": [],
     "prompt_number": 32
    },
    {
     "cell_type": "code",
     "collapsed": false,
     "input": [
      "baby_reviews['predicted_sentiment'] = sentiment_model.predict(baby_reviews, output_type='probability')\n",
      "type(baby_reviews)\n"
     ],
     "language": "python",
     "metadata": {},
     "outputs": [],
     "prompt_number": 25
    },
    {
     "cell_type": "code",
     "collapsed": false,
     "input": [
      "baby_reviews.head()"
     ],
     "language": "python",
     "metadata": {
      "scrolled": true
     },
     "outputs": [],
     "prompt_number": 31
    },
    {
     "cell_type": "heading",
     "level": 2,
     "metadata": {},
     "source": [
      "Sort the reviews based on the predicted sentiment and explore"
     ]
    },
    {
     "cell_type": "code",
     "collapsed": false,
     "input": [
      "baby_reviews = baby_reviews.sort('predicted_sentiment', ascending=False)\n",
      "giraffe_reviews = giraffe_reviews.sort('predicted_sentiment', ascending=False)"
     ],
     "language": "python",
     "metadata": {},
     "outputs": [],
     "prompt_number": 33
    },
    {
     "cell_type": "code",
     "collapsed": false,
     "input": [
      "selected_words_model.predict(baby_reviews[0:1], output_type='probability')"
     ],
     "language": "python",
     "metadata": {
      "scrolled": true
     },
     "outputs": [],
     "prompt_number": 27
    },
    {
     "cell_type": "code",
     "collapsed": true,
     "input": [],
     "language": "python",
     "metadata": {},
     "outputs": [],
     "prompt_number": null
    },
    {
     "cell_type": "code",
     "collapsed": false,
     "input": [
      "baby_reviews.head()"
     ],
     "language": "python",
     "metadata": {
      "scrolled": true
     },
     "outputs": [],
     "prompt_number": 34
    },
    {
     "cell_type": "heading",
     "level": 2,
     "metadata": {},
     "source": [
      "Most positive reviews for the giraffe"
     ]
    },
    {
     "cell_type": "code",
     "collapsed": false,
     "input": [
      "baby_reviews[0]['review']\n",
      "selected_words"
     ],
     "language": "python",
     "metadata": {},
     "outputs": [],
     "prompt_number": 28
    },
    {
     "cell_type": "code",
     "collapsed": false,
     "input": [
      "baby_reviews[0]['review']"
     ],
     "language": "python",
     "metadata": {},
     "outputs": [],
     "prompt_number": 29
    },
    {
     "cell_type": "heading",
     "level": 2,
     "metadata": {},
     "source": [
      "Show most negative reviews for giraffe"
     ]
    },
    {
     "cell_type": "code",
     "collapsed": false,
     "input": [
      "giraffe_reviews[-1]['review']"
     ],
     "language": "python",
     "metadata": {},
     "outputs": [],
     "prompt_number": 34
    },
    {
     "cell_type": "code",
     "collapsed": false,
     "input": [
      "giraffe_reviews[-2]['review']"
     ],
     "language": "python",
     "metadata": {},
     "outputs": [],
     "prompt_number": 35
    },
    {
     "cell_type": "code",
     "collapsed": true,
     "input": [],
     "language": "python",
     "metadata": {},
     "outputs": [],
     "prompt_number": null
    }
   ],
   "metadata": {}
  }
 ]
}