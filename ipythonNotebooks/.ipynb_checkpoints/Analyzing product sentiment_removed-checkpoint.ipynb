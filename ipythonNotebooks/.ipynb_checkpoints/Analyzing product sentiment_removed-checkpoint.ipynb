{
 "cells": [
  {
   "cell_type": "markdown",
   "metadata": {},
   "source": [
    "# Predicting sentiment from product reviews\n",
    "\n",
    "# Fire up GraphLab Create"
   ]
  },
  {
   "cell_type": "code",
   "execution_count": 1,
   "metadata": {
    "collapsed": true
   },
   "outputs": [],
   "source": [
    "import graphlab"
   ]
  },
  {
   "cell_type": "markdown",
   "metadata": {},
   "source": [
    "# Read some product review data\n",
    "\n",
    "Loading reviews for a set of baby products. "
   ]
  },
  {
   "cell_type": "code",
   "execution_count": 2,
   "metadata": {
    "collapsed": false
   },
   "outputs": [
    {
     "name": "stderr",
     "output_type": "stream",
     "text": [
      "[INFO] graphlab.cython.cy_server: GraphLab Create v2.1 started. Logging: /tmp/graphlab_server_1487157658.log\n",
      "INFO:graphlab.cython.cy_server:GraphLab Create v2.1 started. Logging: /tmp/graphlab_server_1487157658.log\n"
     ]
    },
    {
     "name": "stdout",
     "output_type": "stream",
     "text": [
      "This non-commercial license of GraphLab Create for academic use is assigned to ahsan.ijaz@ebryx.com and will expire on December 13, 2017.\n"
     ]
    }
   ],
   "source": [
    "products = graphlab.SFrame('~/Personal/Workshop Machine learning/DataScienceWorkshops/ipythonNotebooks/amazon_baby.gl/')"
   ]
  },
  {
   "cell_type": "markdown",
   "metadata": {},
   "source": [
    "#Let's explore this data together\n",
    "\n",
    "Data includes the product name, the review text and the rating of the review. "
   ]
  },
  {
   "cell_type": "code",
   "execution_count": 34,
   "metadata": {
    "collapsed": false
   },
   "outputs": [],
   "source": [
    "products.head()"
   ]
  },
  {
   "cell_type": "markdown",
   "metadata": {},
   "source": [
    "# Build the word count vector for each review"
   ]
  },
  {
   "cell_type": "code",
   "execution_count": 3,
   "metadata": {
    "collapsed": false
   },
   "outputs": [
    {
     "data": {
      "text/plain": [
       "dtype: dict\n",
       "Rows: 183531\n",
       "[{'and': 5, '6': 1, 'stink': 1, 'because': 1, 'ordered': 1, 'just': 1, 'boyfor': 1, 'wipes-ocean': 1, 'wipes,': 1, 'replace': 1, 'not': 1, 'softer': 1, 'are': 3, 'have': 2, 'in': 1, 'need': 1, 'rough': 1, 'ok,': 1, 'issues': 1, 'seemed': 1, 'use': 1, 'blue-12': 1, 'vimse': 1, 'for': 2, 'no': 1, 'that': 1, 'larger,': 1, 'been': 1, 'to': 2, 'someimse': 1, 'quality.': 1, '8': 1, 'flannel': 1, 'worth': 1, 'higher': 1, 'them': 1, 'get': 1, 'keeping.': 1, 'countwhich': 1, 'texture': 1, 'but': 1, 'cloth': 2, 'nicer,': 1, 'they': 1, 'hands': 1, 'fab': 1, 'now': 1, 'had': 2, 'a': 2, 'also': 1, 'about': 1, 'usingthirsties': 1, 'longer': 1, 'i': 2, 'my': 1, 'months': 1, 'wipes': 2, 'these': 1, 'while': 1, 'stripping': 1, 'faces': 1, 'handles.': 1, 'opinion': 1, 'starting': 1, 'pack': 1}, {'and': 3, 'love': 1, 'it': 2, 'highly': 1, 'osocozy': 1, 'bags': 1, 'holder.': 1, 'moist': 1, 'does': 1, 'recommend': 1, 'was': 1, 'wipes': 1, 'it.': 1, 'early': 1, 'disappointed.': 1, 'not': 2, 'now': 1, 'wipe': 1, 'keps': 1, 'wise': 1, 'i': 1, 'leak.': 1, 'planet': 1, 'my': 2, 'came': 1}, {'and': 2, 'quilt': 1, 'it': 1, 'comfortable': 1, 'warmer': 1, 'size': 1, 'anyone': 1, 'for': 1, 'looking': 1, 'to': 1, 'recommend': 1, 'type': 1, 'full': 1, 'very': 1, 'looks...fit': 1, 'than': 1, 'perfectly...would': 1, 'this': 1, 'of': 1, 'bed': 1, 'the': 1, 'soft': 1}, {'ingenious': 1, 'and': 3, 'love': 2, 'positive,': 1, 'what': 1, 'is': 4, 'it': 1, 'not': 1, 'fairy.': 1, 'have': 1, 'in': 2, 'rid': 1, 'she': 1, 'little': 1, 'her': 1, 'to': 1, 'how': 1, 'much': 1, 'has': 1, 'approach': 2, 'worth': 1, 'herself,': 1, 'tool.': 1, 'product': 2, 'clever': 1, 'chart': 1, 'else': 1, 'most': 1, 'artwork,': 1, 'ownership': 1, 'losing': 1, 'purchase.': 1, 'a': 2, 'about': 1, 'daughter': 1, 'like': 1, 'anything': 1, 'getting': 1, 'this': 3, 'of': 3, 'proud': 1, 'well': 1, 'this,': 1, 'i': 3, 'back,': 1, 'so': 1, 'binky.': 2, 'loves': 1, 'found': 1, 'the': 7, 'my': 1}, {'and': 2, 'parents!!': 1, 'all': 2, 'puppet.': 1, 'help': 1, 'cried': 1, 'is': 3, 'easy': 1, 'it': 1, 'soo': 1, 'rock!!': 1, 'have': 1, 'pacifier': 1, 'where': 1, 'your': 1, 'tried': 1, 'from': 1, 'for': 2, 'to': 5, 'when': 1, 'their': 2, 'going': 1, 'way': 1, 'pacifier,': 1, 'you': 2, 'save': 1, 'until': 1, \"love's\": 1, 'book!': 1, 'them': 4, 'buy': 1, 'ween': 1, 'book,': 1, 'part': 1, 'understand': 1, 'binky': 1, 'an': 1, 'with': 1, 'must': 1, 'a': 2, 'great': 1, 'kids': 2, 'off': 1, 'gift': 1, 'it.this': 1, 'many': 1, 'work': 1, 'this': 1, 'non-stop': 1, 'thumbuddy': 1, 'will': 1, 'i': 2, 'expecting': 1, 'allow': 1, 'of': 1, 'found': 1, 'fairy': 1, 'my': 1, 'headaches.thanks': 1}, {'and': 2, 'this': 2, 'her': 1, 'help': 2, 'doll': 1, 'is': 2, \"didn't\": 1, 'it': 1, 'house,': 1, 'highly': 1, 'have': 1, 'pacifier': 1, 'comes.': 1, 'any': 2, 'special': 1, 'happens': 1, 'what': 1, 'thumb': 1, 'would': 1, 'their': 1, 'lots': 1, 'explain': 1, 'when': 2, 'habit.': 1, 'your': 1, 'to': 6, 'book': 2, 'item.': 1, 'recommend': 1, 'pacifier.': 1, 'adorable': 1, 'product': 1, 'sucking': 1, 'parent': 1, 'our': 2, 'stop': 1, 'great': 1, 'break': 1, 'how': 1, 'job': 1, 'important': 1, 'we': 2, 'child': 1, 'telling': 1, 'using': 1, 'binky': 3, 'trying': 1, 'with': 1, 'fairy': 3, 'a': 2, 'loss': 1, 'about': 2, 'made': 1, 'daughter': 1, 'for': 2, 'gift': 1, 'i': 1, 'of': 2, 'favorite': 1, 'movies': 1, 'prepare': 1, 'cute': 1, 'does': 1, 'the': 6, 'or': 1, 'came': 1}, {'shop': 1, 'noble': 1, 'is': 1, 'it': 1, 'as': 1, 'spaces': 1, 'at': 1, 'in': 1, 'before': 1, 'from': 1, 'for': 1, '&': 1, '29.95!': 1, 'barnes': 1, 'currently': 1, 'able': 1, 'aside': 1, 'tightly': 1, 'to': 1, 'add': 1, 'listed': 1, 'you': 2, 'lovely': 1, 'be': 1, 'photos/cards': 1, 'around': 1, 'may': 1, 'designated': 1, 'book,': 1, 'book.': 1, 'bound': 1, 'not': 1, 'purchase,': 1, 'of': 1, 'so': 1, 'alot': 1, \"it's\": 1, 'the': 2}, {'and': 2, 'all': 1, 'right': 1, 'when': 1, 'able': 1, 'we': 2, 'there!': 1, 'because': 1, 'sleep': 1, 'questions': 1, 'perfect': 1, 'her': 1, 'doctor': 1, 'feeding,': 1, \"baby's\": 1, 'two': 1, 'for': 2, 'to': 1, 'new': 1, 'easier': 1, 'life': 1, 'schedule': 1, 'track': 1, 'it': 1, 'diaper': 1, 'half': 1, 'ask': 1, 'change': 1, 'had': 1, 'a': 1, 'about': 1, 'made': 1, 'would': 1, 'of': 2, 'months': 1, 'keep': 1, 'habits': 1, 'were': 1, 'life.': 1, 'the': 2, 'first': 1, 'parents.': 1}, {'and': 1, 'help': 1, 'give': 1, 'is': 1, 'it': 2, 'decided': 1, 'are': 1, 'if': 1, 'pinterest': 1, 'pinned': 1, 'to': 1, 'feedings,': 1, 'new': 1, 'you': 2, 'friend': 1, 'product': 1, 'like!': 1, 'track': 1, 'fantastic!': 1, 'whirl!': 1, 'mine': 1, 'diaper': 1, 'a': 3, 'on': 1, 'this': 2, 'of': 2, 'parent,': 1, 'keep': 1, 'will': 1, 'i': 1, 'so': 1, 'the': 1, 'changes': 1}, {'journal.': 1, 'nanny': 1, 'standarad': 1, 'another': 1, 'when': 2, 'is': 2, 'some': 1, 'it': 1, 'one': 1, 'baby': 2, 'because': 1, 'at': 1, 'have': 1, 'in': 1, 'happen': 1, 'your': 1, 'out': 1, 'options.i': 1, \"you're\": 1, 'what': 1, 'would': 1, 'record': 1, 'ordering': 1, 'there': 1, 'informed': 1, 'while': 1, 'been': 2, 'the': 1, 'to': 4, 'only': 1, '5': 1, 'easy': 1, 'recommend': 1, 'for': 1, 'has': 1, 'home.': 1, 'events': 1, 'more': 1, 'wants': 1, 'we': 1, 'someone': 1, 'run': 1, 'way': 1, 'that': 1, 'who': 1, 'stay': 1, 'highly': 1, 'reason': 1, 'pre-printed': 1, 'key': 1, 'not': 2, 'an': 1, 'with': 1, 'pages': 1, 'a': 1, 'on': 1, 'all': 1, 'this': 3, 'of': 2, 'could': 1, 'up': 1, 'i': 1, 'home.the': 1, \"i'm\": 1, 'my': 2, 'think': 1, \"isn't\": 1, 'plan': 1}, {'all': 1, 'forget': 1, 'just': 1, 'food': 1, \"daughter's\": 1, 'sleep': 1, 'milk': 1, 'weekly': 1, 'layout': 1, 'had': 1, 'nap': 1, 'to': 11, 'only': 1, 'easy': 1, 'has': 2, 'real': 1, 'complaint': 1, 'etc.)': 1, 'very': 1, 'overall': 1, 'took,': 1, 'sleep,': 1, 'nanny,': 1, 'now': 1, 'older).my': 1, 'today)': 1, 'instructions': 1, 'notes': 1, 'all,': 1, 'leave': 1, 'she': 3, 'night': 1, 'often': 1, 'back': 1, 'design': 1, 'our': 2, 'out': 1, 'what': 1, 'and/or': 1, 'for': 2, 'space': 1, 'sun': 1, 'comments': 2, 'time,': 1, \"nanny's\": 1, 'day,': 1, 'reply': 1, 'previous': 1, 'journal': 1, 'knowing': 1, 'we': 1, 'eating': 1, 'schedule': 1, 'screen': 1, 'communicate': 1, 'nanny': 2, 'rash,': 1, 'ask': 1, 'on': 3, 'about': 1, '(please': 1, 'column': 1, 'of': 4, 'amount': 1, 'changes': 1, 'or': 2, 'love': 2, \"baby's\": 2, 'time--tummy': 1, 'highly': 1, 'specifics': 1, 'morning.': 1, 'use': 2, 'notes.': 1, 'her': 2, \"it's\": 1, 'there': 1, 'add': 1, 'quickly': 1, 'patterns': 1, 'recommend': 1, 'tracker.': 1, '(i.e.': 3, 'naturally': 1, 'that': 2, 'moved': 1, 'stick': 1, 'baby': 4, 'with': 1, 'specify': 1, 'rush': 1, 'this': 2, 'tell': 1, 'etc)': 1, 'my': 2, 'and': 5, 'activities.': 1, 'is': 2, 'post-its': 1, \"didn't\": 1, 'it': 3, 'as': 2, 'want': 1, 'in': 5, 'everyday': 1, 'fill': 1, 'no': 1, 'make': 1, '-': 1, 'walk': 1, 'also': 1, 'hot': 1, 'other': 2, 'details': 2, 'gets': 1, 'play': 1, 'track': 2, 'uses': 1, 'lunch,': 1, 'a': 1, 'i': 7, 'sometimes': 1, 'well': 1, 'park,': 1, 'time': 1, 'the': 9}, {'and': 1, 'the': 1, 'is': 1, 'mom,': 1, 'it': 1, 'visits.': 1, 'changes,': 1, 'moms.': 1, 'in': 1, 'perfect!': 1, 'would': 1, 'doctor': 1, \"it's\": 1, 'to': 1, 'enough': 1, 'book': 2, 'easy': 1, 'recommend': 1, 'feedings,': 1, 'plus': 1, 'that': 1, 'track': 1, 'back': 1, 'diaper': 2, 'new': 2, 'sleep.': 1, 'throw': 1, 'a': 1, 'made': 1, 'for': 2, 'i': 1, 'of': 1, 'keep': 1, 'this': 3, 'definitely': 1, 'so': 1, 'time': 1, 'small': 1, \"i'm\": 1, 'first': 1}, {'all': 1, 'just': 1, 'when': 2, 'one.': 1, 'not': 1, 'paper': 1, '6pm': 1, 'provided.': 1, 'before': 1, 'perfect': 2, 'fit': 1, 'also': 2, 'pouch': 1, 'deal.': 1, 'complain': 1, 'better': 1, 'to': 9, 'only': 1, 'pretty': 2, 'has': 1, 'gave': 1, 'real': 1, 'shorthand,': 1, 'goes': 1, 'emergency': 1, 'solution!': 1, 'very': 1, 'big': 1, 'me': 1, 'they': 1, 'front': 1, 'now': 1, 'day': 1, 'entire': 1, 'helpful': 1, 'leave': 1, 'situation.': 1, 'she': 4, 'also,': 1, 'each': 1, 'small': 1, 'works': 1, 'page': 1, \"isn't\": 1, 'incomplete/inaccurate': 1, 'because': 1, 'me,': 1, 'wohld': 1, 'some': 2, 'him': 1, 'home': 1, 'try': 1, 'for': 7, 'space': 2, 'section': 1, 'day,': 1, '7': 2, 'ends': 1, 'little': 2, 'reported': 1, 'phone.': 1, 'nanny': 2, 'wanted': 2, 'on': 1, 'about': 1, 'her': 1, 'getting': 2, 'of': 6, 'could': 1, 'transfer': 1, \"i'm\": 2, 'out.': 1, 'and': 5, 'useful': 1, 'info.': 1, 'app': 1, 'daycare/nanny/caregiver': 1, '6.': 1, 'down': 1, 'use': 2, 'from': 2, 'additional': 1, 'would': 2, \"it's\": 1, 'format.': 1, 'there': 1, 'two': 1, 'much': 1, 'too': 1, 'way': 1, '6': 1, '6pm.': 1, 'was': 2, 'baby.': 1, 'behind': 1, 'with': 2, 'park': 1, 'but': 2, 'phone': 1, 'information.': 1, 'info': 2, 'this': 5, 'originally': 1, 'up': 1, 'reviews': 1, 'suppose': 1, 'starts': 1, 'problem': 1, 'my': 4, 'example': 1, 'at': 2, 'control': 1, 'is': 3, 'changes.': 1, 'it': 2, 'an': 2, 'complaint:': 1, 'something': 1, 'have': 1, 'in': 1, 'fill': 1, 'information': 3, 'documents': 1, 'end': 1, 'provide': 1, 'get': 1, '-': 6, 'write': 1, 'how': 2, 'other': 1, 'pad': 2, 'take': 2, 'you': 2, 'if': 1, 'difficult': 1, 'track': 1, 'notebook': 1, 'pages': 1, 'a': 8, '7am': 2, 'tracking': 1, 'remember': 1, 'i': 7, 'naps/feedings/diaper': 1, 'contact': 1, 'time': 1, 'the': 15, 'wanted.': 1}, {'least': 2, 'forget': 1, 'just': 1, \"don't\": 1, 'able': 1, 'month': 1, '(i': 1, 'sleep': 2, 'perfect': 1, '(helpful': 1, 'also': 1, '3': 1, 'than': 2, 'better': 1, 'to': 5, 'either,': 1, 'connect).': 1, \"haven't\": 1, 'hit': 1, 'every': 1, 'not': 1, 'him': 1, 'like': 1, 'all,': 1, 'serves': 1, 'morning': 1, 'grab': 1, 'side': 1, 'often': 2, 'me.': 1, 'are': 2, 'satisfaction).': 1, '*both*': 1, 'really': 1, 'what': 2, 'perverse': 1, 'for': 2, '(baby': 1, 'pen': 1, 'nurse': 1, 'journal': 1, 'handwritten': 1, 'be': 1, 'we': 3, \"you're\": 2, 'example,': 1, 'by': 1, 'on': 2, 'about': 1, 'feeling': 1, 'last': 1, 'of': 1, 'taking': 1, 'keep': 1, 'thing': 1, \"i'd\": 1, 'place': 1, \"i'm\": 1, 'or': 1, 'useful': 1, 'simple': 1, 'app': 2, 'skilled': 1, 'yourself': 1, 'been': 1, 'feedings': 1, '177': 1, 'your': 2, 'training).': 1, 'time.)2.)': 1, 'would': 1, \"it's\": 1, 'long': 1, 'start': 1, 'tell': 2, 'gives': 1, 'on.': 1, 'breastfeeding,': 1, 'that': 4, 'started': 2, '-': 6, 'entertained.': 1, 'but': 2, 'phone': 2, 'with': 1, '(granted': 1, \"here's\": 1, 'me': 4, 'keeping': 1, 'look': 1, 'this': 2, 'can': 3, 'deprived': 1, 'more': 1, 'and': 4, 'side,': 1, 'consistently': 1, 'it': 3, 'as': 1, 'at': 5, 'have': 5, 'in': 2, 'close': 1, 'times': 1, 'nursed': 1, 'data.': 1, 'no': 1, 'when': 1, 'same': 1, 'how': 1, 'other': 1, 'button.3.)': 1, 'why:1.)': 1, 'you': 3, 'if': 1, 'nice': 1, 'used': 1, 'notebook': 1, 'purpose': 1, 'nice.': 1, 'a': 5, 'mindlessly': 1, 'i': 7, 'average': 1, 'think': 1, 'thought': 1, 'so': 2, 'time': 1, 'the': 4}, {'it.': 1, 'a': 1, 'and': 1, 'wanted!!': 1, 'useful': 1, 'for': 1, 'what': 1, 'i': 1, 'of': 1, 'is': 1, 'exactly': 1, 'with': 1, 'it': 1, 'photos,': 1, 'monthly': 1, 'info': 1, 'lot': 1, 'stickers': 1, 'come': 1, 'space': 1}, {'and': 3, 'weight,': 1, 'useful': 1, 'have': 2, 'just': 1, 'photo': 1, 'sticker': 1, 'some': 1, 'it': 3, 'whatever': 1, 'one': 1, 'baby': 1, 'second': 1, 'well.': 1, 'likes': 1, 'calender': 2, 'stickers': 1, 'event': 1, 'special': 1, 'before': 1, 'write': 1, 'what': 1, 'do.': 1, 'would': 1, 'to': 3, 'fine': 1, 'there': 1, 'for': 5, 'day.': 1, 'also': 1, 'only': 1, 'does': 1, 'asterisks': 1, 'has': 1, 'is': 3, 'friend': 1, 'happened': 1, 'be': 1, 'complaint': 1, 'colorful': 1, 'that': 2, 'very': 2, 'placed.': 1, 'like,': 1, 'but': 1, 'boxes': 1, 'son.': 1, 'date': 1, 'not': 1, 'writing.': 1, 'a': 3, 'on': 2, 'myself': 1, 'room': 3, 'this': 1, 'many': 1, 'put': 1, 'as': 4, 'height,': 1, 'i': 4, 'she': 1, 'each': 2, 'found': 1, 'the': 1, 'bought': 2, 'my': 2, 'page': 2}, {'and': 1, 'this': 1, 'all': 1, 'love': 1, 'like': 1, 'track': 1, 'of': 2, \"baby's\": 1, 'little': 1, 'keep': 1, 'too.': 1, 'can': 1, 'you': 1, 'the': 2, 'i': 2, 'stickers': 1, 'illustrations,': 1, 'firsts.': 1, 'calender,': 1}, {'and': 1, 'one': 3, 'second': 1, 'are': 1, 'calender': 1, 'year': 1, 'still': 1, 'find': 1, 'note': 1, 'i': 3, 'for': 2, 'things': 1, 'there': 1, 'him.': 1, 'to': 2, 'only': 1, 'better': 1, 'got': 1, 'was': 2, 'after': 1, 'year.': 1, 'they': 1, 'wanted': 1, 'than': 1, 'cause': 1, 'this': 2, 'many': 1, 'could': 1, 'turn': 1, 'continue': 1, 'so': 1, 'did': 1, 'the': 4, '1.': 1, 'first': 2}, {'and': 5, 'all': 3, 'have': 1, 'simple': 1, 'year': 2, 'it': 1, 'questions': 1, 'second': 1, 'something': 1, 'want': 1, 'in': 1, 'calendar': 2, 'still': 1, 'stickers': 1, 'enjoyed': 1, 'special': 2, 'really': 2, 'at': 1, 'layout': 1, 'for': 1, \"he's\": 1, 'things': 1, 'since': 1, '-': 2, 'least': 1, 'day.': 1, 'to': 2, 'amazing': 1, 'much': 1, 'you': 1, 'might': 1, 'completed': 1, \"son's\": 1, 'his': 1, 'moments!': 1, 'that': 1, 'doing': 1, 'tracking': 1, 'every': 1, 'milestone': 1, 'not': 1, 'wanted': 1, 'those': 1, 'a': 1, 'milestones': 1, 'like': 1, 'moments': 1, 'i': 3, 'of': 2, 'keep': 1, 'recording': 1, 'while': 1, 'continue': 1, 'so': 2, \"it's\": 1, 'fun': 1, 'the': 4, 'my': 1, 'first': 1}, {'and': 2, 'cute': 1, 'is': 1, 'something': 1, 'our': 1, 'keep': 1, 'out': 1, 'option.': 1, 'what': 1, 'wanted': 1, 'there': 2, 'to': 2, 'does': 1, 'we': 2, 'get': 1, 'track': 1, 'exactly': 1, \"child's\": 1, \"aren't\": 1, 'a': 1, 'milestones': 1, 'this': 2, 'many': 1, 'choices': 1, 'of': 1, 'other': 1, 'wanted.': 1}, {'and': 3, 'all': 1, 'memories.': 1, 'reference': 1, 'picture': 1, 'well': 1, 'is': 3, 'hard': 1, 'some': 1, 'it': 2, 'years': 1, 'milestones...and': 1, 'put': 1, \"month's\": 1, 'vs': 1, 'have': 1, 'in': 2, 'calendar': 1, 'find': 1, 'down': 1, 'out': 1, 'has': 1, 'little': 1, 'everything': 1, 'ones!': 1, 'had': 1, 'enough': 1, 'write': 1, 'to': 5, 'only': 1, 'much': 1, 'way': 1, 'finding': 1, 'you': 1, 'fill': 1, 'across': 1, 'so!': 1, 'do': 2, 'jot': 1, 'that': 1, 'track': 1, 'big': 1, 'spot': 1, 'book.': 1, 'great!': 1, 'two': 1, 'they': 1, 'baby': 2, 'one': 1, 'change': 1, 'a': 6, 'on': 1, 'great': 1, 'squares': 1, 'as': 2, 'like': 1, 'this': 3, 'of': 1, 'later': 1, 'year': 1, 'second': 1, 'keep': 1, 'large': 1, 'i': 5, 'easier': 1, 'calendar,': 1, 'so': 2, 'can': 2, 'time': 1, 'the': 5, 'book': 1, 'came': 1, 'first': 1}, {'and': 1, 'cute': 1, 'selection': 1, 'just': 1, 'certain': 1, 'is': 1, 'hard': 1, 'some': 1, 'it': 2, 'an': 1, 'calendar.': 1, 'finish': 1, 'are': 1, 'purchased': 1, 'in': 1, 'my': 2, 'calendar': 1, 'stickers': 1, 'hopefully': 1, 'out': 1, 'one': 3, 'for': 4, \"it's\": 1, 'old-fashioned': 1, 'had': 1, 'pages': 2, 'write': 1, 'to': 1, 'only': 2, 'other': 1, 'disappointed': 1, 'which': 1, 'second-year': 2, 'got': 1, 'really': 1, 'was': 2, 'available': 1, 'son': 1, 'looking.': 1, 'okay': 1, 'pretty': 1, 'with': 3, 'pens.': 1, 'calendars': 2, 'lack': 1, 'because': 2, 'they': 1, \"aren't\": 1, 'come': 1, 'purchasers.': 1, 'a': 1, 'on': 2, 'daughter.': 1, 'this': 1, 'general,': 1, 'ones.': 1, 'will': 1, 'i': 4, 'future': 1, 'so': 1, 'glossy': 1, 'of': 2, 'very': 1, 'the': 6, 'makes': 1}, {'and': 4, 'cute': 1, 'love': 1, 'want': 1, 'just': 1, 'is': 2, '1st': 1, \"didn't\": 1, 'one.': 1, 'highly': 1, 'stop': 1, 'not': 1, 'second': 2, 'are': 2, 'have': 1, 'year': 4, \"nature's\": 1, 'calendar': 2, 'stickers': 1, 'calendar!': 1, 'out': 1, 'perfect': 1, 'reocording': 1, 'gender.': 1, 'for': 3, 'record': 2, \"it's\": 1, 'own.': 1, 'there': 2, 'calendars': 1, 'to': 2, 'wonderful': 1, 'lullabies': 1, 'recommend': 1, 'might': 1, 'events': 2, 'loved': 1, 'recording': 1, 'his': 1, 'that': 2, 'with': 1, 'keeping.': 1, 'continuing': 1, 'helped': 1, 'plenty': 1, 'baby': 1, 'now': 1, 'super': 1, 'he': 1, 'me': 1, 'on': 2, 'milestones': 1, 'brat': 1, 'this': 2, 'of': 6, 'daily': 1, 'thought': 1, 'i': 4, 'plus': 1, 'either': 1, 'life.': 1, 'the': 1, \"son's\": 1, 'my': 2, 'think': 1, 'first': 1}, {'just': 1, 'use.': 1, 'is': 1, 'it': 2, 'as': 1, 'are': 1, 'calendar': 1, 'stickers': 1, 'find': 1, 'lots': 1, 'there': 1, 'to': 2, 'was': 1, 'nice': 1, 'be': 1, 'very': 1, 'exactly': 1, 'but': 1, 'disappointed': 1, 'described,': 1, 'look': 1, 'i': 2, 'of': 2, 'cheap.': 2, 'so': 1, 'the': 1, 'looks': 1}, {'and': 2, 'dont': 1, 'just': 1, 'is': 1, 'milestone': 1, 'it': 1, 'as': 1, 'well.': 1, 'down,': 1, 'have': 1, 'mark': 1, 'stickers': 1, 'out': 1, 'option.': 1, 'use': 1, 'for': 3, 'sit': 1, 'scrap': 1, 'actually': 1, 'to': 3, 'enough': 1, 'ton': 1, 'lot': 1, 'new': 1, 'borders': 1, 'spaces': 1, 'sticker': 1, 'firsts.': 1, 'easy': 1, 'moms': 1, 'who': 1, 'includes': 1, 'photos': 1, 'haul': 1, 'scrapbook': 1, 'with': 1, 'a': 3, 'especially': 1, 'wife': 1, 'this': 1, 'of': 2, 'photos,': 1, 'calender.': 1, 'supplies': 1, 'etc,': 1, 'loves': 1, 'time': 1, 'very': 1, 'the': 1, 'options': 1, 'comes': 1, 'booking': 1}, {'and': 2, 'this': 1, 'one-year': 1, 'art': 1, 'able': 1, 'keepsake.': 1, '1st': 1, 'nearing': 1, 'son': 1, 'calendar.': 1, 'second': 1, 'ago.': 1, 'thanks': 1, 'year': 3, 'tender': 1, 'calendar': 1, 'stickers': 1, 'fill': 1, 'for': 3, 'record': 1, 'when': 1, 'looking': 1, 'to': 4, 'wonderful': 1, 'sweet': 1, 'fill.': 1, 'was': 3, 'over': 1, 'nice': 1, 'it.': 1, 'his': 2, 'get': 1, '-': 2, 'amazon': 1, 'birthday': 1, 'baby': 1, 'unique': 1, 'pages': 1, 'milestones.': 1, 'had': 1, 'a': 6, 'daughter': 1, 'helpful': 1, 'gift': 1, 'receive': 1, 'work': 1, 'up': 1, 'old!': 1, 'i': 1, 'her': 3, 'she': 3, 'loves': 1, 'did': 1, 'my': 1, 'first': 2}, {'and': 1, 'remembering': 1, 'ago': 1, 'tired': 1, 'ate,': 1, 'helped': 1, 'baby': 1, 'as': 1, 'through': 1, 'long': 1, 'mom,': 1, 'useful!': 1, 'inexpedient,': 1, 'two': 1, 'months.': 1, 'how': 1, 'new': 1, 'a': 1, 'not': 1, 'extremely': 1, 'me': 1, 'this': 1, 'definitely': 1, 'the': 1, 'first': 1}, {'and': 4, 'right': 1, 'just': 2, 'show': 1, 'face.maybe': 1, 'it': 2, 'son': 1, 'hair': 1, 'shakes': 1, 'through': 1, 'likes': 2, 'mirror': 1, 'perfect!': 1, 'if': 2, 'around.': 1, 'thought': 1, 'end': 1, 'takes': 1, 'would': 1, \"he's\": 1, 'make': 1, 'when': 2, 'months': 1, 'him.': 1, 'also': 1, 'enough': 1, 'does': 1, '9': 1, \"doesn't\": 1, 'be': 1, 'his': 1, 'though': 1, 'blow-kisses': 1, 'however': 1, 'but': 1, 'gestures': 1, 'most': 1, 'cover.': 1, 'fan': 1, 'hands': 1, 'front': 1, 'peek': 1, 'now': 1, 'with': 1, 'him': 1, 'he': 5, 'a': 1, 'peekaboo': 1, 'engage': 1, 'like': 1, 'older': 1, 'i': 4, 'of': 1, 'age': 1, 'pretend': 1, 'cover': 1, 'flip': 2, 'will': 1, 'this': 3, 'seems.': 1, 'so': 1, 'flaps': 1, 'loves': 1, 'boo': 1, 'the': 10, 'my': 1, 'book': 4, 'towards': 1, 'at': 2}, {'and': 2, 'because': 1, 'just': 1, 'less': 1, \"baby's\": 1, 'is': 1, 'some': 1, 'it': 1, 'one': 1, 'see': 1, 'washable!': 1, 'in': 1, 'star': 1, 'your': 1, 'perfect': 1, 'family': 1, 'people': 1, '-': 1, '1': 1, 'to': 1, 'white': 1, 'gave': 1, 'diversity': 1, 'not': 1, ';)': 1, 'than': 1, 'like': 1, 'i': 1, 'of': 1, 'favorite': 1, 'books,': 1, \"i'd\": 1, 'the': 1, 'first': 1, 'typical': 1}, {'family': 1, 'over': 1, 'lost.': 1, 'seat': 1, 'hook': 1, 'members.': 1, 'go': 1, 'your': 1, 'how': 1, '-': 1, 'to': 3, 'book': 1, 'way': 1, 'has': 1, 'attach': 1, 'a': 1, 'get': 1, 'it': 2, 'wont': 1, 'great': 1, 'like': 1, 'i': 1, 'car': 1, 'or': 1, 'the': 1, 'stroller': 1}, {'and': 2, 'beautiful': 1, 'love': 1, 'saying': 1, 'it': 1, 'are': 1, 'story': 1, 'interacting': 1, 'when': 1, 'actually': 1, 'to': 1, 'you': 1, 'it.': 1, 'then': 1, 'attention': 1, 'little': 2, 'book.': 1, 'finished': 1, 'baby': 2, 'hold': 1, 'with': 1, 'pages': 1, 'a': 1, 'on': 1, 'great': 1, 'short': 1, 'you....keeps': 1, 'i': 1, 'of': 1, 'turn': 1, 'can': 1, 'the': 4}, {'and': 1, 'page.': 1, 'says': 1, 'cute': 1, 'is': 1, 'money.': 1, 'it': 2, 'born': 1, 'are': 1, 'open': 1, 'before.': 1, 'for': 1, 'interactive!': 1, \"it's\": 1, 'there': 1, 'to': 4, 'book': 1, 'worth': 1, 'be': 1, '9+': 1, 'very': 1, 'use': 1, 'but': 1, 'every': 1, 'baby': 1, 'wait': 1, 'box': 1, 'on': 2, 'i': 1, 'months': 1, 'try': 1, 'this': 1, 'so': 2, 'flaps': 1, 'the': 2, 'my': 1, \"can't\": 1}, {'and': 3, 'chew': 1, 'one-year-old': 1, 'house!': 1, 'love': 1, 'just': 1, 'can': 2, 'simple': 1, 'is': 1, 'all': 1, 'rip': 1, 'chunks': 1, 'paper': 1, 'learning': 1, 'carry': 1, 'our': 1, '\"puppy,\"': 1, 'open': 1, 'out': 1, 'little': 1, 'for': 1, \"it's\": 1, 'bite': 1, 'that': 2, 'book': 2, 'board': 1, 'got': 1, 'over': 1, 'she': 5, 'it.': 2, 'we': 2, 'on': 2, '\"daddy,\"': 1, 'it': 3, 'it,': 2, 'one.': 1, 'words': 1, 'a': 2, 'pull': 1, 'like': 3, 'this': 1, 'of': 1, 'so': 1, 'flaps': 1, 'loves': 2, '\"mommy,\"': 1, 'the': 2, 'nice': 1, 'etc.': 1, 'or': 1, \"can't\": 1}, {'and': 2, 'overnight.': 1, 'is': 2, \"didn't\": 1, 'older.': 1, '6months': 1, 'in': 1, 'perfect': 1, 'and/or': 1, 'for': 1, 'material.': 1, 'only': 1, 'book': 2, 'was': 1, 'then': 1, 'colorful': 1, 'detergent.': 1, 'smell': 1, 'let': 1, 'dunked': 1, 'strong': 1, 'pages': 1, 'dry': 1, 'like': 1, 'i': 2, 'of': 1, 'thing': 1, 'dyes': 1, 'the': 6}, {'and': 3, 'family': 1, 'is': 1, 'some': 1, 'we': 1, 'one': 1, 'hair': 1, 'are': 1, 'our': 1, 'said,': 1, 'out': 1, 'huge': 1, 'little': 1, 'hands,': 1, '(no': 1, 'to': 1, 'fans': 1, 'book': 1, 'brother)': 1, 'cause': 1, 'play': 1, 'that': 1, 'lamaze': 1, 'hurt': 1, 'products,': 1, 'members': 1, 'baby': 1, 'with': 1, 'the': 2, 'cute,': 1, 'possibly': 1, 'this': 1, 'of': 1, 'leaves': 1, 'feelings.': 1, 'can': 1, 'loves': 1, 'flaps!': 1, 'however,': 1}, {'page.': 1, \"couldn't\": 1, 'is': 1, 'books': 2, 'been': 1, 'another': 1, \"old's\": 1, 'your': 1, 'perfect': 1, 'baby!': 1, 'damaged': 1, 'adds': 1, 'for': 3, 'drool...so': 1, 'plastic': 1, 'looking': 1, 'to': 1, 'book': 3, 'which': 1, 'be': 1, 'babies!': 1, 'flap': 1, 'options.': 1, 'what': 1, 'cloth': 2, 'part': 1, 'every': 1, 'book--a': 1, 'by': 1, '10-month': 1, 'a': 1, 'on': 1, 'great': 1, 'level': 1, 'this': 2, \"i'd\": 1, 'were': 1, 'fun': 1, 'moving': 1, 'interactive': 1, 'my': 3, 'or': 2, 'usual': 1}, {'all': 1, 'being': 1, 'course': 1, 'still': 1, 'perfect': 1, 'now': 2, \"he's\": 1, 'to': 1, 'only': 2, 'board': 1, 'teaching': 1, 'his': 2, 'lamaze': 2, 'nearly': 1, 'they': 1, 'not': 2, 'one': 2, 'like': 1, 'books,': 1, 'them,': 1, 'enjoy': 1, 'chew': 1, 'because': 1, 'books': 1, 'are': 2, 'out': 1, 'for': 4, 'parent.i': 1, 'does': 1, 'reading': 1, 'discovery': 1, 'peek': 1, 'we': 2, 'book,': 1, 'members': 1, 'infant.': 1, 'on': 1, 'about': 1, 'of': 3, \"i'd\": 1, 'liked': 1, 'love': 1, 'family': 1, 'son': 3, 'names': 1, \"doesn't\": 1, 'additional': 1, 'would': 1, 'two': 1, 'lot': 1, 'was': 3, 'flap': 1, 'series,': 1, 'that': 3, 'much,': 1, 'but': 4, 'lift': 1, 'child': 1, 'with': 2, 'he': 3, 'loved': 1, 'look': 1, 'this': 4, 'cat,': 1, 'say': 1, 'learn': 1, 'fun': 2, 'favorites.': 1, 'etc.': 1, 'and': 6, 'sister,': 1, \"didn't\": 1, 'it': 6, 'an': 1, 'as': 3, 'well.': 1, 'at': 1, 'have': 1, 'my': 3, 'issue.': 1, 'grandparents,': 1, 'book': 2, 'destroy': 1, 'used': 1, 'again.': 1, 'farm': 1, 'a': 3, 'i': 1, 'dog': 1, 'boo,': 1, 'the': 5, 'playing': 1}, {'and': 1, 'it': 3, 'our': 1, 'for': 1, '&': 1, 'own.': 1, 'when': 1, 'to': 1, 'him,': 1, 'book': 1, 'enjoys': 2, 'has': 1, '...': 1, 'his': 1, 'loved': 1, 'read': 1, 'baby': 1, 'now': 1, 'with': 1, 'he': 1, 'a': 1, 'on': 1, 'i': 1, 'this': 1, 'while': 1, 'loves': 1, 'playing': 1}, {}, {'a': 1, 'brushing': 1, 'play': 1, 'kids': 1, 'likes': 1, ':)': 1, 'almost': 1, 'of': 1, 'haha': 1, 'son': 1, 'to': 1, 'book': 1, 'let': 1, 'too': 1, 'my': 1, 'the': 1, \"elmo's\": 1, 'with': 1, 'teeth.': 1, 'nice': 1}, {'and': 3, 'grandchildren.': 1, 'love': 1, 'imaginative': 1, 'it': 2, 'through': 1, 'are': 1, 'year': 1, 'go': 1, 'old': 1, 'for': 1, 'sit': 1, 'pictures': 1, 'young': 1, '.': 1, 'to': 1, 'book': 1, 'themselves': 1, 'appeal': 1, 'was': 1, 'buy': 1, 'again!': 1, 'birthday': 1, 'they': 1, 'children.': 1, '2': 1, 'by': 1, 'present': 1, 'a': 1, 'would': 1, 'this': 2, 'will': 1, 'the': 1, 'my': 1, 'page': 2}, {'and': 3, 'rating': 1, 'giggled': 1, 'just': 1, 'cute': 1, 'simple': 1, 'is': 1, \"disappointment....it's\": 1, 'back': 1, 'dead': 1, 'down': 1, 'batteries': 1, 'growled': 1, 'something': 1, 'have': 1, 'in': 1, 'mail': 1, 'star': 1, 'saw': 1, 'find': 1, 'battery': 1, 'if': 2, 'even': 1, 'would': 2, 'no': 1, \"it's\": 1, 'absolutely': 1, 'give': 1, 'when': 1, 'now!': 1, 'actually': 1, 'how': 1, 'other': 1, '5': 1, 'take': 1, 'new': 1, 'was': 2, 'kenzie,': 1, 'adorable': 1, 'handle': 1, 'to': 2, 'suppose': 1, 'but': 1, 'it': 6, 'bear': 1, 'got': 1, 'was!': 1, 'such': 1, 'super': 1, 'day': 1, 'a': 4, 'going': 1, 'like': 1, 'gift': 1, 'this': 1, 'where': 1, 'could': 1, 'as': 2, 'excited': 1, 'granddaughter,': 1, 'i': 6, 'place': 1, 'the': 3, 'to!': 2, 'my': 1, 'or': 1, \"can't\": 1}, {'and': 4, 'soft': 1, 'page,': 1, 'because': 1, 'her.': 1, 'elmo': 3, 'too.': 1, 'is': 5, 'all': 1, 'one': 1, 'illustrated': 1, 'baby': 1, 'featured': 1, 'street': 1, 'are': 1, 'another': 1, 'beautifully': 1, 'fun,': 1, '(which': 1, 'seemed': 1, 'perfect': 1, 'my': 2, 'he': 1, 'lovers': 1, 'price).': 1, 'would': 1, 'to': 1, 'absolutely': 1, 'character': 1, 'right:': 1, 'for': 3, 'also': 2, 'time.': 1, 'book': 3, 'which': 1, 'recommend': 1, 'main': 1, 'was': 1, 'nice': 1, 'available': 1, 'centric': 1, 'that': 1, 'little': 1, 'it': 2, 'amazon': 1, '\"twinkle,': 1, 'everywhere': 1, 'characters': 1, 'street/elmo': 1, \"i'm\": 1, 'great,': 1, 'a': 1, 'on': 2, 'great': 1, 'takes': 1, 'hides': 1, 'this': 2, 'of': 2, 'twinkle': 1, '\"reads\"': 1, 'elmo\"': 1, 'sesame': 2, 'i': 2, 'while': 1, 'so': 2, 'loves': 1, 'each': 1, 'the': 3, 'happy': 1, 'interactive,': 1, 'other': 1, 'say': 1}, {'and': 2, 'love': 1, 'is': 1, 'bright': 1, 'are': 1, 'any': 1, \"doesn't\": 1, 'for': 2, 'two': 1, 'book': 1, 'lastly,': 1, 'baby,': 1, 'bought': 1, 'colors': 1, 'who': 1, 'baby': 1, 'showers!': 1, 'recent': 1, 'great': 1, 'i': 1, 'interactive,': 1, 'elmo!': 1, 'the': 2, 'soft': 1, 'beautiful.': 1}, {'and': 2, 'another': 1, 'elmo': 1, 'is': 2, 'one': 1, 'creative.': 1, 'softplay': 1, 'fun,': 1, 'birds': 1, 'variety': 1, 'two': 1, 'to': 1, 'only': 1, 'book': 2, 'has': 1, 'bird': 1, 'more': 2, 'we': 2, 'get': 1, 'big': 2, 'book,': 1, 'but': 1, 'wanted': 1, 'friends': 1, 'like': 1, 'this': 1, 'books.': 1, 'found': 1, 'the': 3}, {'and': 1, 'cute': 1, 'story': 1, 'soft.': 1, 'safe.': 1, 'for': 1, 'this': 1, \"it's\": 2, 'is': 2, 'it': 1, 'book.': 1, 'handle.': 1, 'to': 1, 'a': 1, 'easy': 1, 'baby': 1, 'peek-a-boo': 1, 'little': 1}, {'and': 7, 'old': 1, 'elmo': 1, 'is': 1, 'laughs': 1, 'it': 1, 'son': 1, 'say': 1, 'books': 1, 'have': 1, 'find': 1, 'different': 1, '&#34;peekaboo': 1, 'for': 1, 'few': 1, 'to': 1, '3': 1, '5': 1, 'stars': 1, 'over': 2, 'sure.': 1, 'smiles': 1, 'it,': 1, 'elmo!&#34;': 1, 'colorful': 1, 'read': 1, 'book.': 1, 'read.': 1, 'most': 1, 'we': 3, 'every': 1, 'baby': 1, 'month': 1, 'he': 1, 'a': 1, 'adores': 1, 'this': 2, 'my': 1, 'so': 1, 'loves': 1, 'time': 1, 'fun': 1, 'the': 1, 'soft': 1}, {'cute': 1, 'great': 1, 'loves': 1, 'for': 1, '&': 1, 'this': 2, 'my': 1, 'make': 1, 'bright': 1, 'son': 1, 'very': 1, 'toddlers.': 1, 'babies': 1, 'illustrations': 1, 'the': 1, 'colorful': 1, 'book!': 2, 'interactive': 1}, {'and': 2, 'over.': 1, 'all': 1, 'love': 2, 'play': 1, 'safe.': 1, 'elmo': 1, 'mos,': 1, 'them': 1, 'high': 1, 'see': 1, 'are': 3, 'still': 1, 'as': 1, 'before': 1, 'use': 1, 'for': 1, 'to': 2, 'when': 2, 'two': 1, 'they': 8, 'how': 1, 'time.': 1, '9': 1, 'got': 1, 'reading': 1, 'bought': 1, 'soft,': 1, 'we': 1, 'buy': 1, 'blocks': 1, 'it': 1, 'book,': 1, 'falls': 1, 'if': 1, 'granddauchildren': 1, 'kiss': 1, 'fall': 1, 'baby': 1, 'now': 1, 'with': 2, 'stack': 1, 'a': 1, 'on': 1, 'elmo.': 1, 'i': 1, 'present.': 1, 'so': 1, 'can': 1, 'were': 1, 'fun': 1, 'them.': 2, 'the': 4, 'them,': 1, 'having': 1}, {'and': 5, 'chew': 1, 'all': 1, 'the,': 2, 'teething': 1, 'over': 2, \"didn't\": 1, 'rolling': 1, 'have': 1, 'crawling.': 1, 'letting': 1, 'bank.': 1, 'for': 3, 'their': 1, 'to': 2, 'encourage': 1, 'setting': 1, 'ruining': 1, 'babies': 1, 'christmas': 1, 'them': 2, 'great': 3, 'about': 1, 'break': 1, 'they': 1, 'baby': 1, 'the': 2, 'younger': 1, 'off': 1, 'gift': 1, 'these': 1, 'worrying': 1, 'droll': 1, 'i': 1, 'without': 1, 'were': 2, 'them.': 1, 'entertaining': 1, 'side': 1}, {'a': 1, 'this': 1, 'boring.': 1, 'would': 1, 'i': 1, 'of': 1, 'is': 2, 'money.': 1, 'it': 2, 'to': 1, 'granddaughter.': 1, 'book': 1, 'nothing': 1, 'recommend': 1, 'not': 1, 'waste': 1, 'my': 1, 'stimulate': 1}, {'old': 1, 'want': 1, 'show': 1, 'is': 2, 'year': 1, 'it': 1, 'one': 1, 'nothing': 1, 'books': 1, 'looks': 1, 'have': 1, 'lion...': 1, 'images': 1, 'our': 1, 'find': 1, '1': 1, 'what': 3, 'animals/objects': 1, 'with': 1, 'looking': 1, 'to': 2, 'of': 1, '\"lion\"': 1, 'is,': 1, 'many': 1, 'real': 2, 'we': 3, 'hard': 1, 'fantastic.': 1, 'that': 1, 'portrayals': 1, 'like,': 1, 'exactly': 1, 'but': 1, 'cloth': 1, 'not': 1, 'teach': 1, 'unrealistic': 1, 'him': 1, 'look': 1, 'a': 4, 'on': 1, 'actual': 1, 'like': 1, 'this': 1, 'lion.': 1, 'drawing': 1, 'so': 2, 'for!!when': 1, 'were': 1, 'them!': 1}, {'is': 1, 'something': 1, 'cute...so': 1, 'little': 1, 'for': 1, 'no': 1, 'memories': 1, 'there': 1, 'young': 1, 'destroying..many': 1, 'reading': 1, 'happy': 2, 'them': 1, 'very': 1, '&#34;': 1, 'read&#34;': 1, 'they': 1, 'child,': 1, 'of': 1, 'chance': 1, 'can': 1, 'the': 1, 'or': 1}, {'cute': 1, '1-year': 1, 'old': 1, 'i': 1, 'interesting': 1, 'anyway': 1, 'but': 2, 'mot': 1, 'to': 1, 'bad': 1, 'thought.': 1, '[texture,': 1, 'not': 2, 'etc]': 1, 'my': 1, 'as': 2, 'interactive': 1}, {'and': 1, 'be': 1, 'great': 1, 'love': 1, 'daughter': 1, 'this': 1, \"it's\": 1, 'when': 1, 'it!': 1, 'will': 1, 'me': 1, 'so': 1, 'a': 2, 'our': 1, 'fun': 1, 'born.': 1, 'calendar': 1, 'momento.': 1, 'was': 1, 'friend': 1, 'bought': 1}, {'a': 2, 'and': 1, 'little': 1, 'milestones': 1, 'especially': 1, 'for': 1, 'up': 1, 'busy,': 1, 'first-time': 1, 'one,': 1, 'all': 1, 'keep': 1, 'to': 1, 'mom.': 1, 'easy': 1, 'of': 1, 'quick': 1, 'the': 1, 'with': 1, 'first': 1}, {'remembering': 1, 'and': 4, 'reviews.': 1, 'pictures.': 1, 'year': 1, 'am': 1, 'back': 1, 'month': 1, 'high': 1, 'personalization': 1, 'calendar': 1, 'throughout': 1, 'down': 1, 'perfect': 1, 'based': 1, 'for': 3, 'to': 1, 'memories': 1, 'did.': 1, \"baby's\": 1, 'spots': 1, 'jotting': 1, 'also': 1, 'low': 1, 'has': 1, 'happy': 1, 'be': 1, 'on.': 1, 'that': 1, '&#34;firsts&#34;.': 1, 'quick': 1, 'one': 1, 'a': 1, 'on': 2, 'dates': 1, 'look': 1, 'this': 1, 'of': 1, 'will': 1, 'i': 3, 'so': 1, 'searched': 1, 'fun': 1, 'the': 2, 'settled': 1, 'first': 1}, {'enjoy': 1, 'this': 1, 'give': 1, 'is': 2, 'soon': 1, 'one': 1, 'baby': 1, 'as': 3, 'are': 1, 'want': 1, 'their': 1, 'from': 1, 'would': 1, 'to': 3, 'had': 1, 'looking': 1, 'start': 1, 'parents': 2, 'themselves.': 1, 'new': 1, 'mother.': 1, '&#34;firsts&#34;': 1, 'good': 1, 'that': 1, 'very': 2, 'calendars': 1, 'chart': 1, 'it': 1, '&#34;firsts&#34;.': 1, 'five': 1, 'they': 3, 'children.': 1, 'now': 1, 'beginning': 1, 'you': 1, 'especially': 1, 'a': 2, 'for': 2, 'gift': 1, 'born': 1, 'i': 1, 'of': 2, 'up': 1, 'these': 1, 'so': 1, 'can': 1, 'each': 1, 'the': 3, 'my': 1}, {}, {'and': 2, 'it.': 1, 'all': 1, 'love': 1, 'absolutely': 1, 'it': 1, 'born': 1, 'purchased': 1, 'in': 1, 'for': 1, 'when': 1, 'same': 1, 'to': 1, 'version': 1, 'was': 2, 'daughter-in-law': 1, 'again.': 1, 'thrilled': 1, 'baby': 1, 'he': 1, 'boy': 1, 'grandson': 1, 'receive': 1, 'scripture': 1, 'i': 1, 'of': 1, 'the': 3, 'my': 2, 'book': 1}, {'simple': 1, 'down.': 1, 'verses': 1, 'as': 1, 'at': 1, 'in': 1, 'pages.': 1, 'law.': 1, 'for': 1, 'bottom': 1, 'memories': 1, 'to': 1, 'bought': 1, 'it.': 1, 'but': 1, 'important': 1, 'put': 1, 'a': 2, 'loved': 2, 'daughter': 1, 'gift': 1, 'i': 1, 'of': 1, 'place': 1, 'she': 1, 'the': 1, 'my': 1}, {'all': 1, 'right': 1, 'memories,': 1, 'prayers': 1, 'almost': 1, 'some': 1, 'are': 1, 'have': 1, 'religious': 1, 'out': 1, 'that,': 1, 'lifestyle,': 1, 'i': 3, 'for': 3, 'etc.).': 1, 'realize': 1, 'book': 1, '(not': 1, \"didn't\": 1, 'has': 1, 'was': 1, 'baby,': 1, 'it.': 2, 'fir': 1, 'we': 1, 'sure': 1, 'returned': 1, 'that': 2, 'ages': 1, 'but': 2, 'product,': 1, 'ask': 1, 'with': 1, 'pages': 1, 'a': 1, 'keeping': 1, 'anything': 1, \"wasn't\": 1, 'of': 1, 'favorite': 1, 'against': 1, 'this': 1, 'so': 2, 'scripture,': 1, 'the': 4}, {'and': 4, 'cute': 1, 'liked': 1, 'had': 1, 'is': 3, 'gift!': 1, 'one.': 1, 'one': 1, 'born': 1, 'want': 1, 'perfect': 1, 'your': 2, 'even': 1, 'little': 2, 'for': 4, 'to': 2, 'memories': 1, 'when': 2, 'hair....etc!': 1, 'gets': 1, 'asking': 1, 'which': 1, 'it': 2, 'place': 1, 'you': 1, 'main': 1, 'book!': 1, 'we': 1, 'loved': 1, 'baby': 3, 'prints': 1, 'hand': 1, 'reason': 1, 'keepsakes': 1, 'foot': 1, 'why': 1, 'bigger': 1, 'a': 2, 'also': 1, 'great': 1, 'has': 1, 'remember': 1, 'places': 1, 'locks': 1, 'this': 2, 'of': 1, 'put': 1, 'omg.....we': 1, 'shower': 1, 'so': 1, 'questions.': 1, 'pockets': 1, 'starts': 1, 'the': 2, 'first': 1}, {'pink': 1, 'beautiful': 2, 'life': 1, 'love': 1, 'pastel': 1, 'i': 1, 'my': 1, 'color.': 1, 'book,': 1, 'great': 1, 'times': 1, 'to': 1, 'cherished': 1, 'in': 1, 'it': 1, 'the': 1, 'granddaughters': 1, 'with': 1, 'record': 1}, {'and': 2, 'mini': 1, 'happy!': 1, 'is': 2, 'one.': 1, 'an': 1, 'firsts...and': 1, 'maternity': 1, 'hair,': 1, 'in': 1, 'fill': 1, 'perfect': 1, 'bracelet...really': 1, 'for': 1, 'purchase.': 1, 'family,': 1, 'looking': 1, 'to': 2, 'book': 1, 'lot': 1, 'really': 1, 'was': 1, 'happy': 1, 'preserve': 1, 'flammish)': 1, 'french': 1, 'baby': 1, 'with': 1, 'info': 1, ':': 1, 'i': 1, 'of': 1, 'this': 2, 'pockets': 1, 'english': 1, 'the': 2, 'daddy': 1, \"(i'm\": 1}, {'detailed': 1, 'and': 2, 'everyone': 1, 'is': 1, 'it': 1, 'serving': 1, 'through': 1, 'descriptions': 1, 'questions': 1, 'in': 1, '\"my': 1, 'your': 2, 'life.': 1, 'perfect': 1, 'kindergartener.': 1, 'for': 2, 'entitled,': 1, 'its': 1, 'kindergarten': 2, 'to': 3, 'book': 2, 'way': 1, 'recommend': 1, 'answer': 1, 'receiving': 1, 'was': 1, 'surprised': 1, \"one's\": 1, 'photographs': 1, \"parent.i'd\": 1, \"child's\": 1, 'very': 1, 'memory': 1, 'upon': 1, 'important': 1, 'purpose': 1, 'child': 1, 'with': 1, 'pleasantly': 1, 'a': 1, 'i': 1, 'of': 1, 'this': 2, 'experience': 1, 'record': 2, 'while': 1, 'time': 1, 'fun': 1, 'year\".': 1, 'the': 4, 'are': 1}, {'and': 1, 'already': 1, 'answered': 1, 'back': 1, 'years': 1, 'see': 1, 'questions': 1, 'stumbled': 1, 'to': 2, 'answering': 1, 'how': 1, 'memory': 1, 'questions.': 1, 'has': 1, 'be': 1, 'started': 1, 'upon': 1, 'it': 1, 'son': 1, \"i'm\": 1, 'glad': 1, 'he': 1, 'a': 1, 'great': 1, 'look': 1, 'these': 1, 'later': 1, 'gem.': 1, 'will': 1, 'i': 2, 'so': 1, 'the': 1, 'my': 1, 'think': 1}, {'and': 1, 'page.': 1, 'old': 1, 'just': 2, 'character': 1, 'is': 1, 'it': 1, 'son.': 1, 'month': 1, 'as': 1, 'have': 1, 'toy': 1, \"he's\": 1, 'when': 1, 'long': 1, 'pages': 1, 'to': 3, 'enough': 1, 'book': 2, 'stuffed': 1, '6': 1, 'neat': 1, 'be': 1, 'we': 1, 'attention': 1, 'elephant': 1, 'realization': 1, 'words': 1, 'few': 2, 'with': 1, 'between': 1, 'association': 1, 'a': 2, 'short': 1, 'older': 1, 'of': 2, 'well': 1, 'see': 1, 'keep': 1, 'will': 1, 'so': 1, 'each': 1, 'the': 7, 'my': 1}, {'and': 1, 'is': 1, 'gift.': 1, 'pretty,.': 1, 'for': 1, 'also': 1, 'recommend': 1, 'gives': 1, 'be': 1, 'used': 1, 'very': 1, 'it': 3, 'years...i': 1, 'a': 3, 'great': 1, 'made': 1, 'this': 1, 'light': 1, 'well': 1, 'will': 1, 'highly.': 1, 'nice': 1, 'makes': 1}, {'affordable': 1, 'and': 2, '!easy': 1, 'for': 1, 'project': 1, 'wall': 1, 'spring': 1, 'a': 1, 'up': 1, '**********': 1, '...fine': 1, 'decals': 1, 'this': 1, ',fun': 1, 'try': 1, 'brightens': 1, '5+': 1, 'room..': 1, 'quality': 1, 'any': 1, 'out': 1}, {'all': 1, 'because': 1, 'reason:small': 1, 'wall': 1, 'money': 1, 'is': 1, 'it': 1, 'pieceyou': 1, 'see': 1, 'in': 2, 'apply': 1, 'one': 1, 'flower': 1, 'floor': 1, 'when': 1, 'how': 1, 'only': 1, 'you': 1, 'waste': 1, 'roll.': 1, 'to': 1, 'most': 1, 'fell': 1, 'know': 1, 'flowers': 1, 'day': 1, 'a': 1, 'on': 2, 'sizehard': 1, 'of': 1, 'second': 1, 'morning': 1, 'will': 1, 'part': 1, 'the': 4}, {'and': 1, 'would': 2, 'almost': 1, 'coming': 1, 'decals': 1, 'as': 1, 'thick': 1, 'recommend.': 1, 'again': 1, 'for': 1, 'literally': 1, 'stayed': 1, 'plastic': 1, 'stuck': 1, '5': 1, 'was': 1, 'then': 1, 'started': 1, 'peeling': 1, 'stick!': 1, 'not': 2, 'applying': 1, 'wall': 1, 'off.': 1, 'purchase': 1, 'about': 1, 'off': 1, 'like': 1, 'i': 1, 'them!': 1, 'were': 2, 'the': 3, 'minutes': 1, 'or': 1}, {'and': 3, 'fantastic': 1, \"don't\": 1, 'winnie': 1, 'paintwork.': 1, 'cost': 1, 'at': 1, 'in': 1, 'themed': 1, '&#34;look&#34;': 1, 'stickers': 2, 'impressed': 1, 'decor': 1, 'with.': 1, 'get': 1, '-': 1, 'seamless': 1, 'to': 1, 'easy': 1, 'new': 1, 'was': 1, 'zealand': 1, 'option': 1, 'that': 1, 'very': 4, 'stick': 1, 'they': 2, 'not': 1, 'pooh': 1, 'wall': 2, 'like': 1, 'a': 1, 'on': 3, 'look': 1, 'effective': 1, 'i': 2, 'all.': 1, 'could': 1, 'these': 2, 'were': 2, 'professional': 1, 'the': 3}, {'page.': 1, 'on': 1, 'and': 1, 'said': 1, 'i': 2, 'product,': 2, 'grat': 1, 'it': 1, 'highly': 1, 'about': 1, 'very': 1, 'as': 1, 'design,': 1, 'came': 1, 'reccomend': 1, 'satisfied': 1, 'follow': 1, 'more.': 1, 'ir': 1, 'the': 2, 'buying': 1}, {'mercy.': 1, 'chain': 1, 'our': 1, 'an': 1, 'lives!': 1, 'in': 1, 'need': 1, 'love': 1, 'divine': 3, 'your': 1, 'jesuswho': 1, 'jesus': 1, 'for': 1, 'pray': 1, 'god': 1, 'to': 1, 'offers': 1, 'you': 1, 'nice': 1, 'around': 1, 'on': 1, 'neck.': 1, 'it!': 1, 'pendant': 1, 'now': 1, 'him': 1, 'represents': 1, 'of': 2, 'country.': 1, 'us': 1, 'ocean': 1, 'very': 1, 'my': 1, 'mercy': 2}, {\"i'll\": 1, 'wipes.': 2, 'right': 1, 'love': 1, 'simple': 1, 'are': 3, 'changes.': 1, 'our': 1, 'done.': 1, 'find': 1, 'for': 2, 'ordering': 1, 'get': 1, 'now!': 1, 'actually': 1, 'other': 1, 'my': 1, 'more': 1, 'a': 2, 'them': 2, 'after': 1, 'that': 1, 'price': 1, 'million': 1, 'great': 1, 'uses': 1, 'know': 1, 'they': 3, 'baby': 1, 'during': 1, 'reusable': 1, 'dry': 1, 'and': 4, 'these': 1, 'of': 1, 'days': 1, 'i': 2, 'so': 1, 'clean': 1, \"i'm\": 1, 'soft': 1, 'diaper': 2}, {'and': 2, 'thought,': 1, 'smaller': 1, 'just': 1, 'is': 1, 'it': 2, 'wall.': 1, 'looks': 1, 'measurements.': 1, 'what': 1, 'was': 2, 'nice': 1, 'that': 1, 'but': 1, 'not': 1, 'bit': 1, 'than': 1, 'a': 1, 'on': 1, 'great': 1, 'i': 1, 'fault': 1, 'taking': 1, 'the': 1, 'my': 2}, {'and': 2, 'old': 1, 'significantly': 1, 'we': 2, 'son': 1, 'high': 1, 'as': 1, 'are': 1, 'year': 1, 'seem': 1, 'open': 3, 'their': 1, 'size': 1, 'given': 1, 'for': 1, 'needed': 1, 'package...': 1, 'that': 1, 'able': 1, 'how': 1, 'only': 1, 'safety': 1, 'normal': 1, '6': 1, 'pins': 3, 'new': 1, 'learned': 1, 'has': 1, 'was': 2, 'more': 2, 'them': 1, 'his': 1, 'to': 4, 'though': 1, 'price': 1, 'time': 1, 'use': 1, 'clothes.': 1, 'break': 1, 'broken': 1, 'bit': 1, 'one': 1, 'than': 1, 'he': 2, 'a': 1, 'on': 1, 'open.': 1, 'autistic': 1, 'sturdy': 1, 'i': 1, 'of': 2, \"hasn't\": 1, 'shipping': 1, 'or': 1, 'recall': 1, 'these': 1, 'reasonable': 1, 'night': 1, 'the': 4, 'bought': 1, 'my': 1, 'side': 1, 'once': 1}, {'and': 1, 'be': 1, 'quality--worked': 1, 'used': 1, 'fine--heavy': 1, 'to': 1, 'these': 1, 'no': 1, 'others': 1, 'duty--able': 1, 'needed': 1, 'as': 1, 'good': 1, 'way': 1, 'in': 1, 'need': 1, 'my': 1, 'any': 1, 'filled': 1, 'were': 1}, {'and': 1, 'a': 3, 'great': 2, 'uses.': 1, 'for': 1, 'dozen.': 1, 'that': 1, 'lots': 1, 'of': 1, 'pin': 1, 'colors': 1, 'bargain': 1, 'to': 1, 'bright': 1, 'safety': 1, 'easy': 1, 'has': 1, 'with': 1, 'find': 1}, {'and': 1, 'baby': 1, 'are': 2, 'in': 1, 'thick': 1, 'little': 1, 'fabric': 1, 'no': 2, 'fortunately': 1, 'there': 1, 'to': 1, 'flimsy': 1, 'stuck.': 1, 'pins': 2, 'was': 2, 'them': 1, 'used': 1, 'on.': 1, 'involved,': 1, 'received': 1, 'diaper': 1, 'not': 1, 'attractive,': 1, 'hold': 1, 'on': 1, 'did': 1, 'metal': 1, 'up': 1, 'i': 2, 'while': 1, 'so': 1, 'the': 4}, {'honduras,': 1, 'honduras': 1, 'sent.': 1, 'is': 1, 'it': 1, 'kits': 1, 'have': 1, 'in': 2, 'our': 1, 'find': 1, 'to': 3, 'with': 1, 'also': 1, 'pins': 2, 'sent': 1, 'difficult': 1, 'do': 1, 'we': 2, 'diapers': 1, 'age.': 1, 'diaper': 2, 'they': 2, 'not': 1, '&#34;pampers&#34;.': 1, 'hold': 1, '&#34;disposable&#34;': 1, 'appreciated': 1, 'went': 1, 'cloth': 1, 'these': 1, 'the': 3, 'missionaries.': 1}, {'and': 3, 'dressmaker': 1, 'pin': 1, 'do': 1, 'a': 1, 'we': 2, 'tended': 1, 'one': 1, 'course': 1, 'through': 2, 'have': 1, 'during': 1, 'open': 1, 'your': 1, 'idea.': 1, 'little': 1, 'but': 3, 'i': 2, 'cycle.': 1, 'needed': 1, 'since': 1, 'been': 1, 'pins,': 1, 'to': 4, 'recommended': 1, 'pins': 2, 'perfectly': 1, 'was': 2, 'suggested': 1, 'staying': 1, 'working': 1, 'tried': 1, 'get': 1, 'it': 1, 'never': 1, \"thery're\": 1, 'washing.': 1, '&#34;friended': 1, 'socks': 2, 'they': 2, 'using': 1, 'brass': 1, 'years': 1, 'tricky': 1, 'open,': 1, 'has': 1, 'like': 1, 'lost': 1, 'wash': 2, 'up&#34;.': 1, 'of': 2, 'wife': 1, 'up': 1, 'together': 2, 'keep': 1, 'yet.': 1, 'matter': 1, 'can': 1, 'many': 1, 'them.': 1, 'the': 4, 'my': 2, 'that': 1, 'fact': 1, 'diaper': 2}, {'and': 4, 'the': 11, 'before': 1, 'reviews.': 1, 'another': 1, 'just': 2, \"don't\": 1, 'sock': 1, 'into': 1, 'each': 1, 'am': 1, 'idea': 1, 'socks': 6, 'one': 1, 'as': 2, 'done': 1, 'are': 2, 'have': 1, 'feet.': 1, 'my': 2, 'dried,': 1, 'still': 1, 'saved': 1, 'hamper': 1, 'out': 1, 'washer,': 1, 'these': 1, 'use': 1, 'reviewer': 1, 'pin': 2, 'for': 1, 'to': 2, 'open': 1, 'with': 2, 'noted,': 1, 'had': 1, 'matching': 1, 'line.': 1, 'of': 4, 'come': 1, 'grab': 1, 'lot': 1, 'pins': 1, 'hamper,': 1, 'has': 1, 'it.': 1, 'dry': 2, 'them': 1, 'on.': 1, 'washing.': 1, 'read': 1, 'hang': 2, 'it': 1, 'after': 1, 'shelf.': 1, 'great': 2, 'here': 1, 'stay': 1, 'mismatched': 1, 'they': 2, 'put': 1, 'line': 1, 'now': 1, 'clothespins,': 1, 'by': 1, 'glad': 1, 'a': 3, 'on': 5, 'about': 1, 'lost': 1, 'this': 2, 'wish': 1, 'side': 1, 'leave': 1, 'i': 7, 'without': 1, 'dirty': 1, 'time': 1, 'life.': 1, 'problem': 1, 'whole': 1, 'or': 1, 'once': 1}, {'fabric.': 1, 'all,': 1, 'old': 1, 'is': 1, 'hard': 1, 'it': 1, 'through': 1, 'at': 1, 'still': 1, 'pins,': 1, 'recommend.': 1, 'would': 1, 'thicker': 1, 'to': 1, 'which': 1, 'steel': 1, 'have.': 1, 'very': 1, 'part': 1, 'diaper': 1, 'not': 2, 'strong': 1, 'a': 1, 'unlike': 1, 'i': 1, 'work': 1, 'the': 2}, {'am': 1, 'back': 1, 'really': 1, 'are': 2, 'have': 1, 'in': 1, 'should': 1, 'dozen': 1, 'thought': 1, 'use': 1, 'there': 1, 'when': 1, 'mark': 1, 'to': 2, 'only': 2, 'going': 1, 'safety': 1, 'pins': 1, 'pins.': 1, 'was': 1, 'be': 1, 'them': 1, '10.': 1, 'pins..turns': 1, 'overpriced.': 1, 'regular': 1, 'they': 1, 'crochet': 1, 'sad..and': 1, 'a': 1, 'that': 1, 'getting': 1, 'i': 8, 'yarn': 1, 'counted': 1, 'will': 1, 'so': 1, 'picture..as': 1, 'the': 2, 'out': 1, 'think': 1}, {'because': 1, 'anymore.': 1, 'tabs': 1, 'is': 1, 'am': 1, 'ends': 1, 'through': 2, 'bend': 1, 'sharp': 1, 'work': 1, 'said,': 1, \"doesn't\": 1, 'which': 1, 'dislike': 1, '=': 2, 'them': 1, 'that': 2, 'pushing': 1, 'diapers': 2, 'velcro': 2, 'easier.': 1, 'sides': 1, 'a': 1, 'on': 1, 'pierce': 1, 'like': 1, 'older': 1, 'i': 1, 'pain.': 1, 'the': 2, 'my': 2}, {'and': 1, 'right': 1, 'happy,': 1, 'bends': 1, 'is': 1, 'am': 2, 'as': 2, 'are': 1, 'for': 1, 'these,': 1, 'expected.': 1, 'steel': 1, 'material': 1, 'needle': 1, 'color,': 1, 'but': 1, 'not': 2, 'strong': 1, 'with': 1, 'easily,': 1, 'a': 1, 'on': 1, 'i': 3, 'dog': 1, 'bed': 1, 'pinning': 1, 'these': 1, 'so': 1, 'diapers.': 1, 'the': 3}, {'a': 1, 'hard': 1, 'useful': 1, 'purpose...': 1, 'item': 1, 'this': 1, 'is': 1, 'no': 1, '-': 1, 'locally!': 1, 'to': 2, 'are': 1, 'have': 1, 'pins': 1, 'the': 1, 'diaper': 1, 'find': 1, 'matter': 1}, {'hold': 1, 'picture': 2, 'just': 1, \"don't\": 1, 'wall': 1, 'hand.': 1, 'am': 1, 'branches': 1, 'an': 4, 'put': 1, 'as': 3, 'design': 1, 'numbers': 1, 'have': 1, 'sense': 2, 'seen': 1, 'any': 1, \"doesn't\": 1, 'compared': 1, 'start': 1, 'make': 2, 'give': 1, 'had': 2, 'actually': 1, 'to': 3, '2': 1, 'way': 1, 'you': 2, 'was': 1, 'sort': 1, 'a': 1, 'far': 1, 'peeled': 1, 'pleased': 1, 'free': 1, 'it': 6, 'putting': 1, 'they': 1, 'half': 1, 'not': 1, 'actual': 1, 'be': 1, 'difference': 1, 'with': 2, 'weeks': 1, 'bigger': 1, 'ago': 1, 'about': 1, 'made': 1, 'off': 1, 'all.': 1, 'i': 4, 'of': 1, 'could': 1, 'instruction': 1, 'up': 3, 'together': 1, '--': 2, 'aligned': 1, 'so': 1, 'wish': 1, 'the': 5, 'my': 1, 'at': 1}, {'do': 1, 'them': 1, 'peel': 1, 'to': 3, 'these': 1, 'soon': 1, 'wall.': 2, 'start': 1, 'as': 2, 'stick': 2, 'they': 1, 'not': 1, 'the': 2, 'you': 1}, {'frustrating!': 1, 'money': 1, 'into': 1, 'back': 1, 'pieces': 1, 'ended': 1, 'girls': 1, 'at': 1, 'bedroom': 1, 'bedroom!': 1, 'glue': 1, 'baby': 1, 'wall...very': 1, 'for': 1, 'when': 1, 'to': 3, 'disappointing.': 1, 'got': 1, 'waste': 1, 'was': 2, 'is': 1, 'it.': 1, 'floor!': 1, 'product': 1, 'get': 1, 'very': 2, 'it': 2, 'every': 1, 'not': 1, 'picking': 1, 'sticky': 1, 'super': 1, 'excited': 1, 'on': 1, 'off': 1, 'all!': 1, 'this': 1, 'of': 1, \"wouldn't\": 1, 'up': 2, 'walked': 1, 'having': 1, 'i': 4, 'so': 1, 'time': 2, 'the': 5, 'my': 1, 'or': 1}, {'and': 3, 'heart': 1, 'because': 1, 'ordered': 1, 'just': 1, 'photo': 1, 'knotted': 1, 'am': 1, 'it': 4, 'lovely': 1, 'as': 1, 'in': 3, 'our': 2, 'novena': 1, 'blessed': 1, 'again': 1, 'copy': 1, 'pope': 2, 'would': 1, 'to': 1, 'giving': 1, 'disappointed': 1, 'for': 2, 'whom': 1, 'francis.': 1, 'strong': 1, 'between': 1, 'has': 1, 'was': 1, 'is': 2, 'friend': 2, 'fathers.': 1, 'buy': 1, 'devotion.': 1, 'crystal,': 1, 'with': 2, 'recommend': 1, 'beat.': 1, 'not': 1, 'along': 1, 'francis': 1, 'lady': 1, 'by': 1, 'a': 4, 'made': 1, 'rosary': 2, 'knots,': 1, 'undoer)': 1, 'this': 3, 'of': 3, 'untier': 1, 'looked': 1, 'i': 4, 'definitely': 1, '(or': 1, 'the': 3, 'my': 1, 'beautiful,': 1}, {'and': 2, 'all': 1, 'right': 1, 'price.': 1, 'just': 1, 'scapular': 1, 'some': 1, 'an': 1, 'quality': 1, 'for': 2, 'to': 1, 'more': 1, 'wearing': 1, 'brown': 1, 'around': 1, 'blessing': 1, 'precious.': 1, 'excellent': 1, 'a': 1, 'neck': 1, 'makes': 1, 'value': 1, 'item': 1, 'the': 5, 'such.': 1, 'or': 1, 'orattaching': 1}, {'and': 3, 'beautiful': 2, 'watching': 1, 'love': 1, 'have': 1, \"don't\": 1, 'recognize': 1, 'is': 4, 'me.': 1, 'am': 3, 'it': 4, 'an': 1, 'down': 1, 'as': 2, 'someone': 1, 'through': 1, 'fast': 1, 'nativity.': 1, '$25.00.': 1, 'still': 1, 'if': 3, 'even': 1, 'song.': 1, 'slow': 1, 'would': 2, 'there': 2, 'had': 3, 'been': 2, 'for': 1, 'to': 5, 'finally': 1, 'music': 4, 'too': 1, 'way': 2, 'beware...': 1, 'item.': 1, 'get': 1, 'was': 1, 'tell': 1, 'happy': 2, 'be': 1, 'play': 1, 'box.': 1, 'song': 1, 'very': 1, 'great': 1, 'but': 1, 'excuse': 1, 'know': 1, 'box;': 1, 'not': 3, 'with': 1, 'nativity;': 1, 'a': 2, 'nativity': 1, 'about': 1, 'look': 1, 'this': 1, 'of': 1, 'right.buyer': 1, 'months': 1, 'excited': 2, 'i': 10, 'so': 3, 'wish': 1, 'the': 7, 'spend': 1, 'once': 1}, {'size': 1, 'and': 2, 'hand.': 1, 'love': 1, 'fit.': 1, 'over': 1, 'am': 1, 'satisfied': 1, 'slid': 1, 'hair': 1, 'snug': 1, 'are': 2, 'have': 2, 'tough': 2, 'shipping!': 1, '.': 1, 'pleased': 1, 'if': 1, 'fit': 1, 'bangles': 1, 'product.': 1, 'had': 1, 'lotion.': 1, 'fast': 1, 'for': 1, 'to': 3, 'fitting': 1, 'whew': 1, 'got': 1, 'small.': 1, 'was': 1, 'stay.': 1, 'them': 1, 'get': 1, 'overall': 1, 'however': 1, 'but': 2, 'hand': 1, 'wrist': 1, 'adult': 1, 'they': 4, 'hands': 1, 'bit': 1, 'product': 1, 'with': 3, 'bigger': 1, 'kid': 1, 'a': 3, 'on': 2, 'like': 1, 'these': 1, \"wouldn't\": 1, 'large': 1, 'i': 5, 'also.': 1, 'were': 1, 'small': 2, 'the': 3, 'my': 1, 'on!!': 1, 'bangle': 1}, {'and': 2, 'set': 1, 'old': 1, 'cooking.': 1, 'for': 1, '2': 1, 'lot': 1, 'has': 1, 'was': 1, 'granddaughter': 1, 'with': 1, 'a': 1, 'great': 1, 'yr.': 1, 'this': 1, 'of': 1, 'pretend': 1, 'she': 1, 'fun': 1, 'the': 1, 'my': 1, 'playing': 1}, {'and': 1, 'is': 1, 'wash': 1, 'are': 1, 'bibs.': 1, 'useful.': 1, 'to': 1, 'easy': 1, 'awesome.': 1, 'them': 1, 'dry.': 1, 'very': 2, 'price': 1, 'much.': 1, 'they': 1, 'friends': 1, 'those': 1, 'also': 1, 'like': 2, 'i': 1, 'the': 1, 'my': 1}, {'beautiful': 1, 'old': 1, 'too.': 1, 'when': 1, 'is': 1, 'wash': 1, 'good': 1, 'in': 1, 'messy': 1, 'mouth.': 1, 'provided': 1, '20': 1, 'for': 1, 'eaters,': 1, 'front': 1, 'missing': 1, 'curls': 1, 'to': 2, 'bibs,': 1, 'easy': 1, 'elbows': 1, 'his': 2, 'boy': 1, 'very': 1, 'who': 1, 'pasta': 2, 'pocket': 1, 'marinara': 1, 'protections': 1, 'fall': 1, 'fingers.': 1, 'bibs': 1, 'with': 1, 'eat': 1, 'a': 1, 'loved': 1, 'daughter': 1, 'grandson': 1, 'this': 2, 'months': 1, 'loves': 1, 'the': 2, 'my': 2, 'or': 1}, {'perfect': 1, 'and': 1, 'this': 2, 'for': 1, 'collection!': 1, 'cute': 1, 'i': 1, 'tree!': 1, 'is': 2, 'collect': 1, 'it': 1, 'nativity': 2, 'to': 2, 'add': 1, 'a': 1, 'ornaments': 1, 'ornament,': 1, 'such': 1, 'my': 2, \"can't\": 1, 'wait': 1}, ... ]"
      ]
     },
     "execution_count": 3,
     "metadata": {},
     "output_type": "execute_result"
    }
   ],
   "source": [
    "selected_words = ['awesome', 'great', 'fantastic', 'amazing', 'love', 'horrible', 'bad', 'terrible', 'awful', 'wow', 'hate']\n",
    "products['word_count'] = graphlab.text_analytics.count_words(products['review'])\n",
    "products['word_count']"
   ]
  },
  {
   "cell_type": "code",
   "execution_count": 6,
   "metadata": {
    "collapsed": true
   },
   "outputs": [],
   "source": [
    "from functools import partial\n",
    "def word_countA(word,dict):\n",
    "    if word in dict:\n",
    "        return dict[word]\n",
    "    else:\n",
    "        return 0\n"
   ]
  },
  {
   "cell_type": "code",
   "execution_count": 7,
   "metadata": {
    "collapsed": false
   },
   "outputs": [],
   "source": [
    "# dic = {\"qwe\":1,\"wae\":4,\"awesome\":2}\n",
    "#word_countA(dic,\"q\")\n",
    "for word in selected_words:\n",
    "        products[word] = products['word_count'].apply(partial(word_countA,word))\n",
    "\n"
   ]
  },
  {
   "cell_type": "code",
   "execution_count": 12,
   "metadata": {
    "collapsed": false
   },
   "outputs": [],
   "source": [
    "for word in selected_words:\n",
    "    print word + \"=\",products[word].sum()\n"
   ]
  },
  {
   "cell_type": "code",
   "execution_count": 8,
   "metadata": {
    "collapsed": true
   },
   "outputs": [],
   "source": [
    "graphlab.canvas.set_target('ipynb')"
   ]
  },
  {
   "cell_type": "code",
   "execution_count": 9,
   "metadata": {
    "collapsed": false,
    "scrolled": true
   },
   "outputs": [],
   "source": [
    "products['name'].show()"
   ]
  },
  {
   "cell_type": "markdown",
   "metadata": {
    "collapsed": true
   },
   "source": [
    "# Examining the reviews for most-sold product:  'Vulli Sophie the Giraffe Teether'"
   ]
  },
  {
   "cell_type": "code",
   "execution_count": 10,
   "metadata": {
    "collapsed": true
   },
   "outputs": [],
   "source": [
    "giraffe_reviews = products[products['name'] == 'Vulli Sophie the Giraffe Teether']"
   ]
  },
  {
   "cell_type": "code",
   "execution_count": 11,
   "metadata": {
    "collapsed": true
   },
   "outputs": [],
   "source": [
    "baby_reviews = products[products['name'] == 'Baby Trend Diaper Champ']\n"
   ]
  },
  {
   "cell_type": "code",
   "execution_count": 12,
   "metadata": {
    "collapsed": false
   },
   "outputs": [],
   "source": [
    "len(giraffe_reviews)"
   ]
  },
  {
   "cell_type": "code",
   "execution_count": 13,
   "metadata": {
    "collapsed": false
   },
   "outputs": [],
   "source": [
    "giraffe_reviews['rating'].show(view='Categorical')"
   ]
  },
  {
   "cell_type": "markdown",
   "metadata": {},
   "source": [
    "# Build a sentiment classifier"
   ]
  },
  {
   "cell_type": "code",
   "execution_count": 14,
   "metadata": {
    "collapsed": false
   },
   "outputs": [],
   "source": [
    "products['rating'].show(view='Categorical')"
   ]
  },
  {
   "cell_type": "markdown",
   "metadata": {},
   "source": [
    "##Define what's a positive and a negative sentiment\n",
    "\n",
    "We will ignore all reviews with rating = 3, since they tend to have a neutral sentiment.  Reviews with a rating of 4 or higher will be considered positive, while the ones with rating of 2 or lower will have a negative sentiment.   "
   ]
  },
  {
   "cell_type": "code",
   "execution_count": 15,
   "metadata": {
    "collapsed": true
   },
   "outputs": [],
   "source": [
    "#ignore all 3* reviews\n",
    "products = products[products['rating'] != 3]"
   ]
  },
  {
   "cell_type": "code",
   "execution_count": 16,
   "metadata": {
    "collapsed": true
   },
   "outputs": [],
   "source": [
    "#positive sentiment = 4* or 5* reviews\n",
    "products['sentiment'] = products['rating'] >=4"
   ]
  },
  {
   "cell_type": "code",
   "execution_count": 17,
   "metadata": {
    "collapsed": false
   },
   "outputs": [],
   "source": [
    "products.head()"
   ]
  },
  {
   "cell_type": "markdown",
   "metadata": {},
   "source": [
    "## Let's train the sentiment classifier"
   ]
  },
  {
   "cell_type": "code",
   "execution_count": 18,
   "metadata": {
    "collapsed": true
   },
   "outputs": [],
   "source": [
    "train_data,test_data = products.random_split(.8, seed=0)\n",
    "features=selected_words"
   ]
  },
  {
   "cell_type": "code",
   "execution_count": 19,
   "metadata": {
    "collapsed": false,
    "scrolled": true
   },
   "outputs": [],
   "source": [
    "sentiment_model = graphlab.logistic_classifier.create(train_data,\n",
    "                                                     target='sentiment',\n",
    "                                                     features=['word_count'],\n",
    "                                                     validation_set=test_data)\n",
    "selected_words_model = graphlab.logistic_classifier.create(train_data,\n",
    "                                                     target='sentiment',\n",
    "                                                     features=features,\n",
    "                                                     validation_set=test_data)"
   ]
  },
  {
   "cell_type": "markdown",
   "metadata": {},
   "source": [
    "# Evaluate the sentiment model"
   ]
  },
  {
   "cell_type": "code",
   "execution_count": 20,
   "metadata": {
    "collapsed": false,
    "scrolled": true
   },
   "outputs": [],
   "source": [
    "sentiment_model.evaluate(test_data, metric='roc_curve')\n"
   ]
  },
  {
   "cell_type": "code",
   "execution_count": 21,
   "metadata": {
    "collapsed": false
   },
   "outputs": [],
   "source": [
    "selected_words_model.evaluate(test_data,metric='roc_curve')\n"
   ]
  },
  {
   "cell_type": "code",
   "execution_count": 22,
   "metadata": {
    "collapsed": false,
    "scrolled": true
   },
   "outputs": [],
   "source": [
    "selected_words_model.show(view='Evaluation')"
   ]
  },
  {
   "cell_type": "code",
   "execution_count": 23,
   "metadata": {
    "collapsed": false
   },
   "outputs": [],
   "source": [
    "sentiment_model.show(view='Evaluation')"
   ]
  },
  {
   "cell_type": "code",
   "execution_count": 24,
   "metadata": {
    "collapsed": false
   },
   "outputs": [],
   "source": [
    "selected_words_model[\"coefficients\"].sort('value',ascending=False)\n"
   ]
  },
  {
   "cell_type": "markdown",
   "metadata": {},
   "source": [
    "# Applying the learned model to understand sentiment for Giraffe"
   ]
  },
  {
   "cell_type": "code",
   "execution_count": 26,
   "metadata": {
    "collapsed": false
   },
   "outputs": [],
   "source": [
    "giraffe_reviews['predicted_sentiment'] = sentiment_model.predict(giraffe_reviews, output_type='probability')\n",
    "type(giraffe_reviews)"
   ]
  },
  {
   "cell_type": "code",
   "execution_count": 27,
   "metadata": {
    "collapsed": false
   },
   "outputs": [],
   "source": [
    "baby_reviews['predicted_sentiment'] = sentiment_model.predict(baby_reviews, output_type='probability')\n",
    "type(baby_reviews)\n"
   ]
  },
  {
   "cell_type": "code",
   "execution_count": 31,
   "metadata": {
    "collapsed": false,
    "scrolled": true
   },
   "outputs": [],
   "source": [
    "baby_reviews.head()"
   ]
  },
  {
   "cell_type": "markdown",
   "metadata": {},
   "source": [
    "## Sort the reviews based on the predicted sentiment and explore"
   ]
  },
  {
   "cell_type": "code",
   "execution_count": 28,
   "metadata": {
    "collapsed": true
   },
   "outputs": [],
   "source": [
    "baby_reviews = baby_reviews.sort('predicted_sentiment', ascending=False)"
   ]
  },
  {
   "cell_type": "code",
   "execution_count": 29,
   "metadata": {
    "collapsed": false,
    "scrolled": true
   },
   "outputs": [],
   "source": [
    "selected_words_model.predict(baby_reviews[0:1], output_type='probability')"
   ]
  },
  {
   "cell_type": "code",
   "execution_count": null,
   "metadata": {
    "collapsed": true
   },
   "outputs": [],
   "source": []
  },
  {
   "cell_type": "code",
   "execution_count": 34,
   "metadata": {
    "collapsed": false,
    "scrolled": true
   },
   "outputs": [],
   "source": [
    "baby_reviews.head()"
   ]
  },
  {
   "cell_type": "markdown",
   "metadata": {},
   "source": [
    "## Most positive reviews for the giraffe"
   ]
  },
  {
   "cell_type": "code",
   "execution_count": 37,
   "metadata": {
    "collapsed": false
   },
   "outputs": [],
   "source": [
    "baby_reviews[0]['review']\n",
    "selected_words"
   ]
  },
  {
   "cell_type": "code",
   "execution_count": 38,
   "metadata": {
    "collapsed": false
   },
   "outputs": [],
   "source": [
    "baby_reviews[0]['review']"
   ]
  },
  {
   "cell_type": "markdown",
   "metadata": {},
   "source": [
    "## Show most negative reviews for giraffe"
   ]
  },
  {
   "cell_type": "code",
   "execution_count": 30,
   "metadata": {
    "collapsed": false
   },
   "outputs": [],
   "source": [
    "giraffe_reviews[-1]['review']"
   ]
  },
  {
   "cell_type": "code",
   "execution_count": 31,
   "metadata": {
    "collapsed": false
   },
   "outputs": [],
   "source": [
    "giraffe_reviews[-2]['review']"
   ]
  },
  {
   "cell_type": "code",
   "execution_count": null,
   "metadata": {
    "collapsed": true
   },
   "outputs": [],
   "source": []
  }
 ],
 "metadata": {
  "kernelspec": {
   "display_name": "Python 2",
   "language": "python",
   "name": "python2"
  },
  "language_info": {
   "codemirror_mode": {
    "name": "ipython",
    "version": 2
   },
   "file_extension": ".py",
   "mimetype": "text/x-python",
   "name": "python",
   "nbconvert_exporter": "python",
   "pygments_lexer": "ipython2",
   "version": "2.7.10"
  }
 },
 "nbformat": 4,
 "nbformat_minor": 0
}
