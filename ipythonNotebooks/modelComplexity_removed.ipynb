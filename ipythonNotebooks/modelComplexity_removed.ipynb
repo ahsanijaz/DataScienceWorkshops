{
 "metadata": {
  "kernelspec": {
   "display_name": "Python 2",
   "name": "python2"
  },
  "language_info": {
   "codemirror_mode": {
    "name": "ipython",
    "version": 2
   },
   "file_extension": ".py",
   "mimetype": "text/x-python",
   "name": "python",
   "nbconvert_exporter": "python",
   "pygments_lexer": "ipython2",
   "version": "2.7.10"
  },
  "name": "modelComplexity.ipynb"
 },
 "nbformat": 3,
 "nbformat_minor": 0,
 "worksheets": [
  {
   "cells": [
    {
     "cell_type": "heading",
     "level": 1,
     "metadata": {
      "ein.tags": [
       "worksheet-0"
      ],
      "slideshow": {
       "slide_type": "-"
      }
     },
     "source": [
      "Regression: Assessing Fit (polynomial regression)"
     ]
    },
    {
     "cell_type": "markdown",
     "metadata": {
      "ein.tags": [
       "worksheet-0"
      ],
      "slideshow": {
       "slide_type": "-"
      }
     },
     "source": [
      "In this notebook you will compare different regression models in order to assess which model fits best. We will be using polynomial regression as a means to examine this topic. In particular you will:\n",
      "* Write a function to take an SArray and a degree and return an SFrame where each column is the SArray to a polynomial value up to the total degree e.g. degree = 3 then column 1 is the SArray column 2 is the SArray squared and column 3 is the SArray cubed\n",
      "* Use matplotlib to visualize polynomial regressions\n",
      "* Use matplotlib to visualize the same polynomial degree on different subsets of the data\n",
      "* Use a validation set to select a polynomial degree\n",
      "* Assess the final fit using test data\n",
      "\n",
      "We will continue to use the House data from previous notebooks."
     ]
    },
    {
     "cell_type": "heading",
     "level": 1,
     "metadata": {
      "ein.tags": [
       "worksheet-0"
      ],
      "slideshow": {
       "slide_type": "-"
      }
     },
     "source": [
      "Fire up graphlab create"
     ]
    },
    {
     "cell_type": "code",
     "collapsed": false,
     "input": [
      "import graphlab"
     ],
     "language": "python",
     "metadata": {
      "autoscroll": "json-false",
      "ein.tags": [
       "worksheet-0"
      ],
      "slideshow": {
       "slide_type": "-"
      }
     },
     "outputs": [],
     "prompt_number": 1
    },
    {
     "cell_type": "markdown",
     "metadata": {
      "ein.tags": [
       "worksheet-0"
      ],
      "slideshow": {
       "slide_type": "-"
      }
     },
     "source": [
      "Next we're going to write a polynomial function that takes an SArray and a maximal degree and returns an SFrame with columns containing the SArray to all the powers up to the maximal degree.\n",
      "\n",
      "The easiest way to apply a power to an SArray is to use the .apply() and lambda x: functions. \n",
      "For example to take the example array and compute the third power we can do as follows: (note running this cell the first time may take longer than expected since it loads graphlab)"
     ]
    },
    {
     "cell_type": "code",
     "collapsed": false,
     "input": [
      "tmp = graphlab.SArray([1., 2., 3.])\n",
      "tmp_cubed = tmp.apply(lambda x: x**3)\n",
      "print tmp\n",
      "print tmp_cubed"
     ],
     "language": "python",
     "metadata": {
      "autoscroll": "json-false",
      "ein.tags": [
       "worksheet-0"
      ],
      "slideshow": {
       "slide_type": "-"
      }
     },
     "outputs": [],
     "prompt_number": 2
    },
    {
     "cell_type": "markdown",
     "metadata": {
      "ein.tags": [
       "worksheet-0"
      ],
      "slideshow": {
       "slide_type": "-"
      }
     },
     "source": [
      "We can create an empty SFrame using graphlab.SFrame() and then add any columns to it with ex_sframe['column_name'] = value. For example we create an empty SFrame and make the column 'power_1' to be the first power of tmp (i.e. tmp itself)."
     ]
    },
    {
     "cell_type": "code",
     "collapsed": false,
     "input": [
      "ex_sframe = graphlab.SFrame()\n",
      "ex_sframe['power_1'] = tmp\n",
      "print ex_sframe"
     ],
     "language": "python",
     "metadata": {
      "autoscroll": "json-false",
      "ein.tags": [
       "worksheet-0"
      ],
      "slideshow": {
       "slide_type": "-"
      }
     },
     "outputs": [],
     "prompt_number": 3
    },
    {
     "cell_type": "heading",
     "level": 1,
     "metadata": {
      "ein.tags": [
       "worksheet-0"
      ],
      "slideshow": {
       "slide_type": "-"
      }
     },
     "source": [
      "Polynomial_sframe function"
     ]
    },
    {
     "cell_type": "markdown",
     "metadata": {
      "ein.tags": [
       "worksheet-0"
      ],
      "slideshow": {
       "slide_type": "-"
      }
     },
     "source": [
      "Using the hints above complete the following function to create an SFrame consisting of the powers of an SArray up to a specific degree:"
     ]
    },
    {
     "cell_type": "code",
     "collapsed": false,
     "input": [
      "def polynomial_sframe(feature, degree):\n",
      "    # assume that degree >= 1\n",
      "    # initialize the SFrame:\n",
      "    poly_sframe = graphlab.SFrame()\n",
      "    # and set poly_sframe['power_1'] equal to the passed feature\n",
      "    poly_sframe['power_1'] = feature\n",
      "    # first check if degree > 1\n",
      "    if degree > 1:\n",
      "        # then loop over the remaining degrees:\n",
      "        # range usually starts at 0 and stops at the endpoint-1. We want it to start at 2 and stop at degree\n",
      "        for power in range(2, degree+1): \n",
      "            # first we'll give the column a name:\n",
      "            name = 'power_' + str(power)\n",
      "            poly_sframe[name] = poly_sframe['power_1'].apply(lambda x: x**power)\n",
      "            # then assign poly_sframe[name] to the appropriate power of feature\n",
      "    return poly_sframe\n"
     ],
     "language": "python",
     "metadata": {
      "autoscroll": "json-false",
      "ein.tags": [
       "worksheet-0"
      ],
      "slideshow": {
       "slide_type": "-"
      }
     },
     "outputs": [],
     "prompt_number": 4
    },
    {
     "cell_type": "markdown",
     "metadata": {
      "ein.tags": [
       "worksheet-0"
      ],
      "slideshow": {
       "slide_type": "-"
      }
     },
     "source": [
      "To test your function consider the smaller tmp variable and what you would expect the outcome of the following call:"
     ]
    },
    {
     "cell_type": "code",
     "collapsed": false,
     "input": [
      "print polynomial_sframe(tmp, 3)"
     ],
     "language": "python",
     "metadata": {
      "autoscroll": "json-false",
      "ein.tags": [
       "worksheet-0"
      ],
      "slideshow": {
       "slide_type": "-"
      }
     },
     "outputs": [],
     "prompt_number": 5
    },
    {
     "cell_type": "heading",
     "level": 1,
     "metadata": {
      "ein.tags": [
       "worksheet-0"
      ],
      "slideshow": {
       "slide_type": "-"
      }
     },
     "source": [
      "Visualizing polynomial regression"
     ]
    },
    {
     "cell_type": "markdown",
     "metadata": {
      "ein.tags": [
       "worksheet-0"
      ],
      "slideshow": {
       "slide_type": "-"
      }
     },
     "source": [
      "Let's use matplotlib to visualize what a polynomial regression looks like on some real data."
     ]
    },
    {
     "cell_type": "code",
     "collapsed": false,
     "input": [
      "sales = graphlab.SFrame('kc_house_data.gl/')"
     ],
     "language": "python",
     "metadata": {
      "autoscroll": "json-false",
      "ein.tags": [
       "worksheet-0"
      ],
      "slideshow": {
       "slide_type": "-"
      }
     },
     "outputs": [],
     "prompt_number": 7
    },
    {
     "cell_type": "markdown",
     "metadata": {
      "ein.tags": [
       "worksheet-0"
      ],
      "slideshow": {
       "slide_type": "-"
      }
     },
     "source": [
      "We will use the sqft_living variable. For plotting purposes (connecting the dots), you'll need to sort by the values of sqft_living. For houses with identical square footage, we break the tie by their prices."
     ]
    },
    {
     "cell_type": "code",
     "collapsed": false,
     "input": [
      "sales = sales.sort(['sqft_living', 'price'])"
     ],
     "language": "python",
     "metadata": {
      "autoscroll": "json-false",
      "ein.tags": [
       "worksheet-0"
      ],
      "slideshow": {
       "slide_type": "-"
      }
     },
     "outputs": [],
     "prompt_number": 8
    },
    {
     "cell_type": "markdown",
     "metadata": {
      "ein.tags": [
       "worksheet-0"
      ],
      "slideshow": {
       "slide_type": "-"
      }
     },
     "source": [
      "Let's start with a degree 1 polynomial using 'sqft_living' (i.e. a line) to predict 'price' and plot what it looks like."
     ]
    },
    {
     "cell_type": "code",
     "collapsed": false,
     "input": [
      "poly1_data = polynomial_sframe(sales['sqft_living'], 1)\n",
      "poly1_data['price'] = sales['price'] # add price to the data since it's the target"
     ],
     "language": "python",
     "metadata": {
      "autoscroll": "json-false",
      "ein.tags": [
       "worksheet-0"
      ],
      "slideshow": {
       "slide_type": "-"
      }
     },
     "outputs": [],
     "prompt_number": 9
    },
    {
     "cell_type": "markdown",
     "metadata": {
      "ein.tags": [
       "worksheet-0"
      ],
      "slideshow": {
       "slide_type": "-"
      }
     },
     "source": [
      "NOTE: for all the models in this notebook use validation_set = None to ensure that all results are consistent across users."
     ]
    },
    {
     "cell_type": "code",
     "collapsed": false,
     "input": [
      "model1 = graphlab.linear_regression.create(poly1_data, target = 'price', features = ['power_1'], validation_set = None)"
     ],
     "language": "python",
     "metadata": {
      "autoscroll": "json-false",
      "ein.tags": [
       "worksheet-0"
      ],
      "slideshow": {
       "slide_type": "-"
      }
     },
     "outputs": [],
     "prompt_number": 10
    },
    {
     "cell_type": "code",
     "collapsed": false,
     "input": [
      "#let's take a look at the weights before we plot\n",
      "model1.get(\"coefficients\")"
     ],
     "language": "python",
     "metadata": {
      "autoscroll": "json-false",
      "ein.tags": [
       "worksheet-0"
      ],
      "slideshow": {
       "slide_type": "-"
      }
     },
     "outputs": [],
     "prompt_number": 11
    },
    {
     "cell_type": "code",
     "collapsed": false,
     "input": [
      "import matplotlib.pyplot as plt\n",
      "%matplotlib inline"
     ],
     "language": "python",
     "metadata": {
      "autoscroll": "json-false",
      "ein.tags": [
       "worksheet-0"
      ],
      "slideshow": {
       "slide_type": "-"
      }
     },
     "outputs": [],
     "prompt_number": 12
    },
    {
     "cell_type": "code",
     "collapsed": false,
     "input": [
      "plt.plot(poly1_data['power_1'],poly1_data['price'],'.',\n",
      "        poly1_data['power_1'], model1.predict(poly1_data),'-')"
     ],
     "language": "python",
     "metadata": {
      "autoscroll": "json-false",
      "ein.tags": [
       "worksheet-0"
      ],
      "slideshow": {
       "slide_type": "-"
      }
     },
     "outputs": [],
     "prompt_number": 13
    },
    {
     "cell_type": "markdown",
     "metadata": {
      "ein.tags": [
       "worksheet-0"
      ],
      "slideshow": {
       "slide_type": "-"
      }
     },
     "source": [
      "Let's unpack that plt.plot() command. The first pair of SArrays we passed are the 1st power of sqft and the actual price we then ask it to print these as dots '.'. The next pair we pass is the 1st power of sqft and the predicted values from the linear model. We ask these to be plotted as a line '-'. \n",
      "\n",
      "We can see, not surprisingly, that the predicted values all fall on a line, specifically the one with slope 280 and intercept -43579. What if we wanted to plot a second degree polynomial?"
     ]
    },
    {
     "cell_type": "code",
     "collapsed": false,
     "input": [
      "poly2_data = polynomial_sframe(sales['sqft_living'], 2)\n",
      "my_features = poly2_data.column_names() # get the name of the features\n",
      "poly2_data['price'] = sales['price'] # add price to the data since it's the target\n",
      "model2 = graphlab.linear_regression.create(poly2_data, target = 'price', features = my_features, validation_set = None)"
     ],
     "language": "python",
     "metadata": {
      "autoscroll": "json-false",
      "ein.tags": [
       "worksheet-0"
      ],
      "slideshow": {
       "slide_type": "-"
      }
     },
     "outputs": [],
     "prompt_number": 14
    },
    {
     "cell_type": "code",
     "collapsed": false,
     "input": [
      "model2.get(\"coefficients\")"
     ],
     "language": "python",
     "metadata": {
      "autoscroll": "json-false",
      "ein.tags": [
       "worksheet-0"
      ],
      "slideshow": {
       "slide_type": "-"
      }
     },
     "outputs": [],
     "prompt_number": 15
    },
    {
     "cell_type": "code",
     "collapsed": false,
     "input": [
      "plt.plot(poly2_data['power_1'],poly2_data['price'],'.',\n",
      "        poly2_data['power_1'], model2.predict(poly2_data),'-')"
     ],
     "language": "python",
     "metadata": {
      "autoscroll": "json-false",
      "ein.tags": [
       "worksheet-0"
      ],
      "slideshow": {
       "slide_type": "-"
      }
     },
     "outputs": [],
     "prompt_number": 16
    },
    {
     "cell_type": "markdown",
     "metadata": {
      "ein.tags": [
       "worksheet-0"
      ],
      "slideshow": {
       "slide_type": "-"
      }
     },
     "source": [
      "The resulting model looks like half a parabola. Try on your own to see what the cubic looks like:"
     ]
    },
    {
     "cell_type": "code",
     "collapsed": false,
     "input": [
      "poly3_data = polynomial_sframe(sales['sqft_living'], 3)\n",
      "my_features = poly3_data.column_names() # get the name of the features\n",
      "poly3_data['price'] = sales['price'] # add price to the data since it's the target\n",
      "model3 = graphlab.linear_regression.create(poly3_data, target = 'price', features = my_features, validation_set = None)\n"
     ],
     "language": "python",
     "metadata": {
      "autoscroll": "json-false",
      "ein.tags": [
       "worksheet-0"
      ],
      "slideshow": {
       "slide_type": "-"
      }
     },
     "outputs": [],
     "prompt_number": 17
    },
    {
     "cell_type": "code",
     "collapsed": false,
     "input": [
      "plt.plot(poly3_data['power_1'],poly3_data['price'],'.',\n",
      "        poly3_data['power_1'], model3.predict(poly3_data),'-')\n"
     ],
     "language": "python",
     "metadata": {
      "autoscroll": "json-false",
      "ein.tags": [
       "worksheet-0"
      ],
      "slideshow": {
       "slide_type": "-"
      }
     },
     "outputs": [],
     "prompt_number": 18
    },
    {
     "cell_type": "markdown",
     "metadata": {
      "ein.tags": [
       "worksheet-0"
      ],
      "slideshow": {
       "slide_type": "-"
      }
     },
     "source": [
      "Now try a 15th degree polynomial:"
     ]
    },
    {
     "cell_type": "code",
     "collapsed": false,
     "input": [
      "poly15_data = polynomial_sframe(sales['sqft_living'], 15)\n",
      "my_features = poly15_data.column_names() # get the name of the features\n",
      "poly15_data['price'] = sales['price'] # add price to the data since it's the target\n",
      "model15 = graphlab.linear_regression.create(poly15_data, target = 'price', features = my_features, validation_set = None)\n"
     ],
     "language": "python",
     "metadata": {
      "autoscroll": "json-false",
      "ein.tags": [
       "worksheet-0"
      ],
      "slideshow": {
       "slide_type": "-"
      }
     },
     "outputs": [],
     "prompt_number": 19
    },
    {
     "cell_type": "code",
     "collapsed": false,
     "input": [
      "plt.plot(poly15_data['power_1'],poly15_data['price'],'.',\n",
      "        poly15_data['power_1'], model15.predict(poly15_data),'-')\n"
     ],
     "language": "python",
     "metadata": {
      "autoscroll": "json-false",
      "ein.tags": [
       "worksheet-0"
      ],
      "slideshow": {
       "slide_type": "-"
      }
     },
     "outputs": [],
     "prompt_number": 20
    },
    {
     "cell_type": "markdown",
     "metadata": {
      "ein.tags": [
       "worksheet-0"
      ],
      "slideshow": {
       "slide_type": "-"
      }
     },
     "source": [
      "What do you think of the 15th degree polynomial? Do you think this is appropriate? If we were to change the data do you think you'd get pretty much the same curve? Let's take a look."
     ]
    },
    {
     "cell_type": "heading",
     "level": 1,
     "metadata": {
      "ein.tags": [
       "worksheet-0"
      ],
      "slideshow": {
       "slide_type": "-"
      }
     },
     "source": [
      "Changing the data and re-learning"
     ]
    },
    {
     "cell_type": "markdown",
     "metadata": {
      "ein.tags": [
       "worksheet-0"
      ],
      "slideshow": {
       "slide_type": "-"
      }
     },
     "source": [
      "We're going to split the sales data into four subsets of roughly equal size. Then you will estimate a 15th degree polynomial model on all four subsets of the data. Print the coefficients (you should use .print_rows(num_rows = 16) to view all of them) and plot the resulting fit (as we did above). The quiz will ask you some questions about these results.\n",
      "\n",
      "To split the sales data into four subsets, we perform the following steps:\n",
      "* First split sales into 2 subsets with `.random_split(0.5, seed=0)`. \n",
      "* Next split the resulting subsets into 2 more subsets each. Use `.random_split(0.5, seed=0)`.\n",
      "\n",
      "We set `seed=0` in these steps so that different users get consistent results.\n",
      "You should end up with 4 subsets (`set_1`, `set_2`, `set_3`, `set_4`) of approximately equal size. "
     ]
    },
    {
     "cell_type": "code",
     "collapsed": false,
     "input": [
      "set_12, set_34 = poly15_data.random_split(0.5, seed=0)\n",
      "set_1, set_2 = set_12.random_split(0.5, seed=0)\n",
      "set_3, set_4 = set_34.random_split(0.5, seed=0)\n"
     ],
     "language": "python",
     "metadata": {
      "autoscroll": "json-false",
      "ein.tags": [
       "worksheet-0"
      ],
      "slideshow": {
       "slide_type": "-"
      }
     },
     "outputs": [],
     "prompt_number": 21
    },
    {
     "cell_type": "markdown",
     "metadata": {
      "ein.tags": [
       "worksheet-0"
      ],
      "slideshow": {
       "slide_type": "-"
      }
     },
     "source": [
      "Fit a 15th degree polynomial on set_1, set_2, set_3, and set_4 using sqft_living to predict prices. Print the coefficients and make a plot of the resulting model."
     ]
    },
    {
     "cell_type": "code",
     "collapsed": false,
     "input": [
      "models_1 = graphlab.linear_regression.create(set_1, target = 'price', features = my_features, validation_set = None)\n"
     ],
     "language": "python",
     "metadata": {
      "autoscroll": "json-false",
      "ein.tags": [
       "worksheet-0"
      ],
      "slideshow": {
       "slide_type": "-"
      }
     },
     "outputs": [],
     "prompt_number": 24
    },
    {
     "cell_type": "code",
     "collapsed": false,
     "input": [
      "models_2 = graphlab.linear_regression.create(set_2, target = 'price', features = my_features, validation_set = None)\n"
     ],
     "language": "python",
     "metadata": {
      "autoscroll": "json-false",
      "ein.tags": [
       "worksheet-0"
      ],
      "slideshow": {
       "slide_type": "-"
      }
     },
     "outputs": [],
     "prompt_number": 25
    },
    {
     "cell_type": "code",
     "collapsed": false,
     "input": [
      "models_3 = graphlab.linear_regression.create(set_3, target = 'price', features = my_features, validation_set = None)\n"
     ],
     "language": "python",
     "metadata": {
      "autoscroll": "json-false",
      "ein.tags": [
       "worksheet-0"
      ],
      "slideshow": {
       "slide_type": "-"
      }
     },
     "outputs": [],
     "prompt_number": 26
    },
    {
     "cell_type": "code",
     "collapsed": false,
     "input": [
      "models_4 = graphlab.linear_regression.create(set_4, target = 'price', features = my_features, validation_set = None)\n"
     ],
     "language": "python",
     "metadata": {
      "autoscroll": "json-false",
      "ein.tags": [
       "worksheet-0"
      ],
      "slideshow": {
       "slide_type": "-"
      }
     },
     "outputs": [],
     "prompt_number": 27
    },
    {
     "cell_type": "markdown",
     "metadata": {
      "ein.tags": [
       "worksheet-0"
      ],
      "slideshow": {
       "slide_type": "-"
      }
     },
     "source": []
    },
    {
     "cell_type": "heading",
     "level": 1,
     "metadata": {
      "ein.tags": [
       "worksheet-0"
      ],
      "slideshow": {
       "slide_type": "-"
      }
     },
     "source": [
      "Selecting a Polynomial Degree"
     ]
    },
    {
     "cell_type": "markdown",
     "metadata": {
      "ein.tags": [
       "worksheet-0"
      ],
      "slideshow": {
       "slide_type": "-"
      }
     },
     "source": [
      "Whenever we have a \"magic\" parameter like the degree of the polynomial there is one well-known way to select these parameters: validation set. (We will explore another approach in week 4).\n",
      "\n",
      "We split the sales dataset 3-way into training set, test set, and validation set as follows:\n",
      "\n",
      "* Split our sales data into 2 sets: `training_and_validation` and `testing`. Use `random_split(0.9, seed=1)`.\n",
      "* Further split our training data into two sets: `training` and `validation`. Use `random_split(0.5, seed=1)`.\n",
      "\n",
      "Again, we set `seed=1` to obtain consistent results for different users."
     ]
    },
    {
     "cell_type": "code",
     "collapsed": false,
     "input": [
      "poly1_data = polynomial_sframe(sales['sqft_living'], 1)\n",
      "# add price to the data since it's the target\n",
      "poly1_data['price'] = sales['price']\n",
      "training_validation, testing = poly1_data.random_split(0.9, seed=1)\n",
      "training, validation = training_validation.random_split(0.5, seed=1)"
     ],
     "language": "python",
     "metadata": {
      "autoscroll": "json-false",
      "ein.tags": [
       "worksheet-0"
      ],
      "slideshow": {
       "slide_type": "-"
      }
     },
     "outputs": [],
     "prompt_number": 28
    },
    {
     "cell_type": "markdown",
     "metadata": {
      "ein.tags": [
       "worksheet-0"
      ],
      "slideshow": {
       "slide_type": "-"
      }
     },
     "source": [
      "Next you should write a loop that does the following:\n",
      "* For degree in [1, 2, 3, 4, 5, 6, 7, 8, 9, 10, 11, 12, 13, 14, 15] (to get this in python type range(1, 15+1))\n",
      "    * Build an SFrame of polynomial data of train_data['sqft_living'] at the current degree\n",
      "    * hint: my_features = poly_data.column_names() gives you a list e.g. ['power_1', 'power_2', 'power_3'] which you might find useful for graphlab.linear_regression.create( features = my_features)\n",
      "    * Add train_data['price'] to the polynomial SFrame\n",
      "    * Learn a polynomial regression model to sqft vs price with that degree on TRAIN data\n",
      "    * Compute the RSS on VALIDATION data (here you will want to use .predict()) for that degree and you will need to make a polynmial SFrame using validation data.\n",
      "* Report which degree had the lowest RSS on validation data (remember python indexes from 0)\n",
      "\n",
      "(Note you can turn off the print out of linear_regression.create() with verbose = False)"
     ]
    },
    {
     "cell_type": "code",
     "collapsed": false,
     "input": [
      "from math import sqrt\n",
      "import operator\n",
      "RSS = dict()\n",
      "for i in range(1, 15+1):\n",
      "    train_data = graphlab.SFrame()\n",
      "    validation_data = graphlab.SFrame()\n",
      "    train_data = polynomial_sframe(training['power_1'], i)\n",
      "    validation_data = polynomial_sframe(validation['power_1'], i)\n",
      "    validation_data['price'] = validation['price']\n",
      "    my_features = train_data.column_names()\n",
      "    train_data['price'] = training['price']\n",
      "    current_model = graphlab.linear_regression.create(train_data,\n",
      "                                                      features=my_features,\n",
      "                                                      target='price',\n",
      "                                                      verbose=False)\n",
      "    predictions = current_model.predict(validation_data)\n",
      "    RSS[i] = sqrt((sum((validation_data['price'] - predictions)**2)))\n",
      "    print i\n",
      "\n",
      "train_data = graphlab.SFrame()\n",
      "test_data = graphlab.SFrame()\n",
      "sorted_RSS = sorted(RSS.items(), key=operator.itemgetter(1))\n"
     ],
     "language": "python",
     "metadata": {
      "autoscroll": "json-false",
      "ein.tags": [
       "worksheet-0"
      ],
      "slideshow": {
       "slide_type": "-"
      }
     },
     "outputs": [],
     "prompt_number": 37
    },
    {
     "cell_type": "markdown",
     "metadata": {
      "ein.tags": [
       "worksheet-0"
      ],
      "slideshow": {
       "slide_type": "-"
      }
     },
     "source": []
    },
    {
     "cell_type": "markdown",
     "metadata": {
      "ein.tags": [
       "worksheet-0"
      ],
      "slideshow": {
       "slide_type": "-"
      }
     },
     "source": [
      "Now that you have chosen the degree of your polynomial using validation data, compute the RSS of this model on TEST data. "
     ]
    },
    {
     "cell_type": "code",
     "collapsed": false,
     "input": [
      "print sorted_RSS\n",
      "plt.plot(poly15_data['power_1'],poly15_data['price'],'.',\n",
      "        poly15_data['power_1'], model15.predict(poly15_data),'-')\n",
      "\n",
      "# selected_model = graphlab.linear_regression"
     ],
     "language": "python",
     "metadata": {
      "autoscroll": "json-false",
      "ein.tags": [
       "worksheet-0"
      ],
      "slideshow": {
       "slide_type": "-"
      }
     },
     "outputs": [],
     "prompt_number": 38
    },
    {
     "cell_type": "markdown",
     "metadata": {
      "ein.tags": [
       "worksheet-0"
      ],
      "slideshow": {
       "slide_type": "-"
      }
     },
     "source": []
    },
    {
     "cell_type": "code",
     "collapsed": false,
     "input": [
      "plt.plot([x[0] for x in sorted_RSS],[x[1] for x in sorted_RSS],'.') "
     ],
     "language": "python",
     "metadata": {
      "autoscroll": "json-false",
      "ein.tags": [
       "worksheet-0"
      ],
      "slideshow": {
       "slide_type": "-"
      }
     },
     "outputs": [],
     "prompt_number": 57
    }
   ],
   "metadata": {}
  }
 ]
}